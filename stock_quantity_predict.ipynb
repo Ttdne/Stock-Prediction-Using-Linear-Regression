{
 "cells": [
  {
   "cell_type": "code",
   "execution_count": 2,
   "metadata": {},
   "outputs": [],
   "source": [
    "import numpy as np\n",
    "import pandas as pd\n",
    "import yfinance as yf\n",
    "from typing import List\n",
    "import sklearn as sk"
   ]
  },
  {
   "cell_type": "markdown",
   "metadata": {},
   "source": [
    "# DATA DOWNLOADING AND PROCESSING"
   ]
  },
  {
   "cell_type": "code",
   "execution_count": 3,
   "metadata": {},
   "outputs": [
    {
     "name": "stdout",
     "output_type": "stream",
     "text": [
      "{'address1': '1 Meta Way', 'city': 'Menlo Park', 'state': 'CA', 'zip': '94025', 'country': 'United States', 'phone': '650 543 4800', 'website': 'https://investor.fb.com', 'industry': 'Internet Content & Information', 'industryKey': 'internet-content-information', 'industryDisp': 'Internet Content & Information', 'sector': 'Communication Services', 'sectorKey': 'communication-services', 'sectorDisp': 'Communication Services', 'longBusinessSummary': 'Meta Platforms, Inc. engages in the development of products that enable people to connect and share with friends and family through mobile devices, personal computers, virtual reality headsets, and wearables worldwide. It operates in two segments, Family of Apps and Reality Labs. The Family of Apps segment offers Facebook, which enables people to share, discuss, discover, and connect with interests; Instagram, a community for sharing photos, videos, and private messages, as well as feed, stories, reels, video, live, and shops; Messenger, a messaging application for people to connect with friends, family, communities, and businesses across platforms and devices through text, audio, and video calls; and WhatsApp, a messaging application that is used by people and businesses to communicate and transact privately. The Reality Labs segment provides augmented and virtual reality related products comprising consumer hardware, software, and content that help people feel connected, anytime, and anywhere. The company was formerly known as Facebook, Inc. and changed its name to Meta Platforms, Inc. in October 2021. The company was incorporated in 2004 and is headquartered in Menlo Park, California', 'fullTimeEmployees': 69329, 'companyOfficers': [{'maxAge': 1, 'name': 'Mr. Mark Elliot Zuckerberg', 'age': 39, 'title': 'Founder, Chairman & CEO', 'yearBorn': 1984, 'fiscalYear': 2023, 'totalPay': 24399968, 'exercisedValue': 0, 'unexercisedValue': 0}, {'maxAge': 1, 'name': 'Ms. Susan J. S. Li', 'age': 37, 'title': 'Chief Financial Officer', 'yearBorn': 1986, 'fiscalYear': 2023, 'totalPay': 1963161, 'exercisedValue': 0, 'unexercisedValue': 0}, {'maxAge': 1, 'name': 'Mr. Javier  Olivan', 'age': 46, 'title': 'Chief Operating Officer', 'yearBorn': 1977, 'fiscalYear': 2023, 'totalPay': 4065442, 'exercisedValue': 0, 'unexercisedValue': 0}, {'maxAge': 1, 'name': 'Mr. Andrew  Bosworth', 'age': 41, 'title': 'Chief Technology Officer', 'yearBorn': 1982, 'fiscalYear': 2023, 'totalPay': 2000988, 'exercisedValue': 0, 'unexercisedValue': 0}, {'maxAge': 1, 'name': 'Mr. Christopher K. Cox', 'age': 40, 'title': 'Chief Product Officer', 'yearBorn': 1983, 'fiscalYear': 2023, 'totalPay': 2013913, 'exercisedValue': 0, 'unexercisedValue': 0}, {'maxAge': 1, 'name': 'Mr. Aaron A. Anderson', 'title': 'Chief Accounting Officer', 'fiscalYear': 2023, 'exercisedValue': 0, 'unexercisedValue': 0}, {'maxAge': 1, 'name': 'Mr. Atish  Banerjea', 'age': 57, 'title': 'Chief Information Officer', 'yearBorn': 1966, 'fiscalYear': 2023, 'exercisedValue': 0, 'unexercisedValue': 0}, {'maxAge': 1, 'name': 'Ms. Deborah T. Crawford', 'title': 'Vice President of Investor Relations', 'fiscalYear': 2023, 'exercisedValue': 0, 'unexercisedValue': 0}, {'maxAge': 1, 'name': 'Ms. Jennifer G. Newstead', 'age': 53, 'title': 'Chief Legal Officer', 'yearBorn': 1970, 'fiscalYear': 2023, 'totalPay': 3079624, 'exercisedValue': 0, 'unexercisedValue': 0}, {'maxAge': 1, 'name': 'Mr. Henry T. A. Moniz', 'age': 58, 'title': 'Chief Compliance Officer', 'yearBorn': 1965, 'fiscalYear': 2023, 'exercisedValue': 0, 'unexercisedValue': 0}], 'auditRisk': 9, 'boardRisk': 10, 'compensationRisk': 10, 'shareHolderRightsRisk': 10, 'overallRisk': 10, 'governanceEpochDate': 1714521600, 'compensationAsOfEpochDate': 1703980800, 'maxAge': 86400, 'priceHint': 2, 'previousClose': 465.78, 'open': 467.62, 'dayLow': 466.3, 'dayHigh': 479.8499, 'regularMarketPreviousClose': 465.78, 'regularMarketOpen': 467.62, 'regularMarketDayLow': 466.3, 'regularMarketDayHigh': 479.8499, 'dividendRate': 2.0, 'dividendYield': 0.0042, 'exDividendDate': 1708473600, 'payoutRatio': 0.028800001, 'beta': 1.208, 'trailingPE': 27.547234, 'forwardPE': 20.720104, 'volume': 11952834, 'regularMarketVolume': 11952834, 'averageVolume': 15767707, 'averageVolume10days': 12298950, 'averageDailyVolume10Day': 12298950, 'bid': 478.01, 'ask': 478.27, 'bidSize': 100, 'askSize': 100, 'marketCap': 1213019324416, 'fiftyTwoWeekLow': 258.45, 'fiftyTwoWeekHigh': 531.49, 'priceToSalesTrailing12Months': 8.499771, 'fiftyDayAverage': 484.0374, 'twoHundredDayAverage': 388.3692, 'trailingAnnualDividendRate': 0.5, 'trailingAnnualDividendYield': 0.0010734681, 'currency': 'USD', 'enterpriseValue': 1192534343680, 'profitMargins': 0.32062998, 'floatShares': 2186619299, 'sharesOutstanding': 2191450112, 'sharesShort': 28273581, 'sharesShortPriorMonth': 26846472, 'sharesShortPreviousMonthDate': 1711584000, 'dateShortInterest': 1714435200, 'sharesPercentSharesOut': 0.0111, 'heldPercentInsiders': 0.00183, 'heldPercentInstitutions': 0.79127, 'shortRatio': 1.42, 'shortPercentOfFloat': 0.0128999995, 'impliedSharesOutstanding': 2547429888, 'bookValue': 58.939, 'priceToBook': 8.113812, 'lastFiscalYearEnd': 1703980800, 'nextFiscalYearEnd': 1735603200, 'mostRecentQuarter': 1711843200, 'earningsQuarterlyGrowth': 1.167, 'netIncomeToCommon': 45758001152, 'trailingEps': 17.36, 'forwardEps': 23.08, 'pegRatio': 0.77, 'enterpriseToRevenue': 8.356, 'enterpriseToEbitda': 17.423, '52WeekChange': 0.8216517, 'SandP52WeekChange': 0.26137078, 'lastDividendValue': 0.5, 'lastDividendDate': 1708473600, 'exchange': 'NMS', 'quoteType': 'EQUITY', 'symbol': 'META', 'underlyingSymbol': 'META', 'shortName': 'Meta Platforms, Inc.', 'longName': 'Meta Platforms, Inc.', 'firstTradeDateEpochUtc': 1337347800, 'timeZoneFullName': 'America/New_York', 'timeZoneShortName': 'EDT', 'uuid': 'e59f1c4f-b1aa-3d70-a8c3-eb59ff3e461b', 'messageBoardId': 'finmb_20765463', 'gmtOffSetMilliseconds': -14400000, 'currentPrice': 478.22, 'targetHighPrice': 593.0, 'targetLowPrice': 260.0, 'targetMeanPrice': 512.99, 'targetMedianPrice': 520.0, 'recommendationMean': 1.8, 'recommendationKey': 'buy', 'numberOfAnalystOpinions': 52, 'totalCash': 58119999488, 'totalCashPerShare': 22.913, 'ebitda': 68446998528, 'totalDebt': 37632999424, 'quickRatio': 2.546, 'currentRatio': 2.681, 'totalRevenue': 142711996416, 'debtToEquity': 25.168, 'revenuePerShare': 55.671, 'returnOnAssets': 0.17312999, 'returnOnEquity': 0.33361, 'freeCashflow': 35132125184, 'operatingCashflow': 76360998912, 'earningsGrowth': 1.141, 'revenueGrowth': 0.273, 'grossMargins': 0.81496, 'ebitdaMargins': 0.47962, 'operatingMargins': 0.38579, 'financialCurrency': 'USD', 'trailingPegRatio': 1.1055}\n"
     ]
    }
   ],
   "source": [
    "GetFacebookInformation = yf.Ticker(\"META\")\n",
    "\n",
    "print(GetFacebookInformation.info)\n"
   ]
  },
  {
   "cell_type": "code",
   "execution_count": 4,
   "metadata": {},
   "outputs": [
    {
     "data": {
      "text/plain": [
       "Date\n",
       "2019-05-28 00:00:00-04:00    181.347586\n",
       "2019-05-29 00:00:00-04:00    183.305512\n",
       "2019-05-30 00:00:00-04:00    182.885958\n",
       "2019-05-31 00:00:00-04:00    180.088925\n",
       "2019-06-03 00:00:00-04:00    174.814519\n",
       "                                ...    \n",
       "2024-05-20 00:00:00-04:00    469.950012\n",
       "2024-05-21 00:00:00-04:00    467.119995\n",
       "2024-05-22 00:00:00-04:00    467.869995\n",
       "2024-05-23 00:00:00-04:00    472.880005\n",
       "2024-05-24 00:00:00-04:00    467.619995\n",
       "Name: Open, Length: 1259, dtype: float64"
      ]
     },
     "execution_count": 4,
     "metadata": {},
     "output_type": "execute_result"
    }
   ],
   "source": [
    "# Let us  get historical stock prices for Facebook \n",
    "# covering the past few years.\n",
    "# max->maximum number of daily prices available \n",
    "# for Facebook.\n",
    "# Valid options are 1d, 5d, 1mo, 3mo, 6mo, 1y, 2y, \n",
    "# 5y, 10y and ytd.\n",
    "GetFacebookInformation.history(period=\"5y\")['Open']\n"
   ]
  },
  {
   "cell_type": "code",
   "execution_count": 5,
   "metadata": {},
   "outputs": [
    {
     "data": {
      "text/html": [
       "<div>\n",
       "<style scoped>\n",
       "    .dataframe tbody tr th:only-of-type {\n",
       "        vertical-align: middle;\n",
       "    }\n",
       "\n",
       "    .dataframe tbody tr th {\n",
       "        vertical-align: top;\n",
       "    }\n",
       "\n",
       "    .dataframe thead th {\n",
       "        text-align: right;\n",
       "    }\n",
       "</style>\n",
       "<table border=\"1\" class=\"dataframe\">\n",
       "  <thead>\n",
       "    <tr style=\"text-align: right;\">\n",
       "      <th></th>\n",
       "      <th>Open</th>\n",
       "      <th>High</th>\n",
       "      <th>Low</th>\n",
       "      <th>Close</th>\n",
       "      <th>Volume</th>\n",
       "      <th>Dividends</th>\n",
       "      <th>Stock Splits</th>\n",
       "    </tr>\n",
       "    <tr>\n",
       "      <th>Date</th>\n",
       "      <th></th>\n",
       "      <th></th>\n",
       "      <th></th>\n",
       "      <th></th>\n",
       "      <th></th>\n",
       "      <th></th>\n",
       "      <th></th>\n",
       "    </tr>\n",
       "  </thead>\n",
       "  <tbody>\n",
       "    <tr>\n",
       "      <th>2019-05-28 00:00:00-04:00</th>\n",
       "      <td>181.347586</td>\n",
       "      <td>184.514240</td>\n",
       "      <td>181.257685</td>\n",
       "      <td>184.114655</td>\n",
       "      <td>14843300</td>\n",
       "      <td>0.0</td>\n",
       "      <td>0.0</td>\n",
       "    </tr>\n",
       "    <tr>\n",
       "      <th>2019-05-29 00:00:00-04:00</th>\n",
       "      <td>183.305512</td>\n",
       "      <td>184.364386</td>\n",
       "      <td>181.157796</td>\n",
       "      <td>181.996902</td>\n",
       "      <td>12797700</td>\n",
       "      <td>0.0</td>\n",
       "      <td>0.0</td>\n",
       "    </tr>\n",
       "    <tr>\n",
       "      <th>2019-05-30 00:00:00-04:00</th>\n",
       "      <td>182.885958</td>\n",
       "      <td>183.285528</td>\n",
       "      <td>180.698277</td>\n",
       "      <td>182.816025</td>\n",
       "      <td>8581500</td>\n",
       "      <td>0.0</td>\n",
       "      <td>0.0</td>\n",
       "    </tr>\n",
       "    <tr>\n",
       "      <th>2019-05-31 00:00:00-04:00</th>\n",
       "      <td>180.088925</td>\n",
       "      <td>180.348644</td>\n",
       "      <td>176.972237</td>\n",
       "      <td>177.281906</td>\n",
       "      <td>15226500</td>\n",
       "      <td>0.0</td>\n",
       "      <td>0.0</td>\n",
       "    </tr>\n",
       "    <tr>\n",
       "      <th>2019-06-03 00:00:00-04:00</th>\n",
       "      <td>174.814519</td>\n",
       "      <td>174.864470</td>\n",
       "      <td>160.839342</td>\n",
       "      <td>163.976013</td>\n",
       "      <td>56059600</td>\n",
       "      <td>0.0</td>\n",
       "      <td>0.0</td>\n",
       "    </tr>\n",
       "    <tr>\n",
       "      <th>...</th>\n",
       "      <td>...</td>\n",
       "      <td>...</td>\n",
       "      <td>...</td>\n",
       "      <td>...</td>\n",
       "      <td>...</td>\n",
       "      <td>...</td>\n",
       "      <td>...</td>\n",
       "    </tr>\n",
       "    <tr>\n",
       "      <th>2024-05-20 00:00:00-04:00</th>\n",
       "      <td>469.950012</td>\n",
       "      <td>473.200012</td>\n",
       "      <td>467.040009</td>\n",
       "      <td>468.839996</td>\n",
       "      <td>11745100</td>\n",
       "      <td>0.0</td>\n",
       "      <td>0.0</td>\n",
       "    </tr>\n",
       "    <tr>\n",
       "      <th>2024-05-21 00:00:00-04:00</th>\n",
       "      <td>467.119995</td>\n",
       "      <td>470.700012</td>\n",
       "      <td>462.269989</td>\n",
       "      <td>464.630005</td>\n",
       "      <td>11742200</td>\n",
       "      <td>0.0</td>\n",
       "      <td>0.0</td>\n",
       "    </tr>\n",
       "    <tr>\n",
       "      <th>2024-05-22 00:00:00-04:00</th>\n",
       "      <td>467.869995</td>\n",
       "      <td>473.720001</td>\n",
       "      <td>465.649994</td>\n",
       "      <td>467.779999</td>\n",
       "      <td>10078600</td>\n",
       "      <td>0.0</td>\n",
       "      <td>0.0</td>\n",
       "    </tr>\n",
       "    <tr>\n",
       "      <th>2024-05-23 00:00:00-04:00</th>\n",
       "      <td>472.880005</td>\n",
       "      <td>474.359985</td>\n",
       "      <td>461.540009</td>\n",
       "      <td>465.779999</td>\n",
       "      <td>11747900</td>\n",
       "      <td>0.0</td>\n",
       "      <td>0.0</td>\n",
       "    </tr>\n",
       "    <tr>\n",
       "      <th>2024-05-24 00:00:00-04:00</th>\n",
       "      <td>467.619995</td>\n",
       "      <td>479.850006</td>\n",
       "      <td>466.299988</td>\n",
       "      <td>478.220001</td>\n",
       "      <td>12012300</td>\n",
       "      <td>0.0</td>\n",
       "      <td>0.0</td>\n",
       "    </tr>\n",
       "  </tbody>\n",
       "</table>\n",
       "<p>1259 rows × 7 columns</p>\n",
       "</div>"
      ],
      "text/plain": [
       "                                 Open        High         Low       Close  \\\n",
       "Date                                                                        \n",
       "2019-05-28 00:00:00-04:00  181.347586  184.514240  181.257685  184.114655   \n",
       "2019-05-29 00:00:00-04:00  183.305512  184.364386  181.157796  181.996902   \n",
       "2019-05-30 00:00:00-04:00  182.885958  183.285528  180.698277  182.816025   \n",
       "2019-05-31 00:00:00-04:00  180.088925  180.348644  176.972237  177.281906   \n",
       "2019-06-03 00:00:00-04:00  174.814519  174.864470  160.839342  163.976013   \n",
       "...                               ...         ...         ...         ...   \n",
       "2024-05-20 00:00:00-04:00  469.950012  473.200012  467.040009  468.839996   \n",
       "2024-05-21 00:00:00-04:00  467.119995  470.700012  462.269989  464.630005   \n",
       "2024-05-22 00:00:00-04:00  467.869995  473.720001  465.649994  467.779999   \n",
       "2024-05-23 00:00:00-04:00  472.880005  474.359985  461.540009  465.779999   \n",
       "2024-05-24 00:00:00-04:00  467.619995  479.850006  466.299988  478.220001   \n",
       "\n",
       "                             Volume  Dividends  Stock Splits  \n",
       "Date                                                          \n",
       "2019-05-28 00:00:00-04:00  14843300        0.0           0.0  \n",
       "2019-05-29 00:00:00-04:00  12797700        0.0           0.0  \n",
       "2019-05-30 00:00:00-04:00   8581500        0.0           0.0  \n",
       "2019-05-31 00:00:00-04:00  15226500        0.0           0.0  \n",
       "2019-06-03 00:00:00-04:00  56059600        0.0           0.0  \n",
       "...                             ...        ...           ...  \n",
       "2024-05-20 00:00:00-04:00  11745100        0.0           0.0  \n",
       "2024-05-21 00:00:00-04:00  11742200        0.0           0.0  \n",
       "2024-05-22 00:00:00-04:00  10078600        0.0           0.0  \n",
       "2024-05-23 00:00:00-04:00  11747900        0.0           0.0  \n",
       "2024-05-24 00:00:00-04:00  12012300        0.0           0.0  \n",
       "\n",
       "[1259 rows x 7 columns]"
      ]
     },
     "execution_count": 5,
     "metadata": {},
     "output_type": "execute_result"
    }
   ],
   "source": [
    "# Let us  get historical stock prices for Facebook \n",
    "# covering the past few years.\n",
    "# max->maximum number of daily prices available \n",
    "# for Facebook.\n",
    "# Valid options are 1d, 5d, 1mo, 3mo, 6mo, 1y, 2y, \n",
    "# 5y,\n",
    "# 10y and ytd.\n",
    "data =  GetFacebookInformation.history(period=\"5y\")\n",
    "vectors = data[['Open', 'Close', 'High', 'Low']].values.tolist()\n",
    "# print(len(vectors))\n",
    "vectors.pop()\n",
    "# Hiển thị 5 vector đầu tiên\n",
    "# num_vectors = len(vectors)\n",
    "# print(num_vectors)\n",
    "len(vectors)\n",
    "data"
   ]
  },
  {
   "cell_type": "code",
   "execution_count": 6,
   "metadata": {},
   "outputs": [
    {
     "data": {
      "text/plain": [
       "1258"
      ]
     },
     "execution_count": 6,
     "metadata": {},
     "output_type": "execute_result"
    }
   ],
   "source": [
    "y_vectors = data[['Open', 'Close', 'High', 'Low']].values.tolist()\n",
    "y_values = [sum(y_vector) / 4 for y_vector in y_vectors]\n",
    "\n",
    "# Hiển thị danh sách các giá trị y\n",
    "# num_y = len(y_values)\n",
    "# print(num_y)\n",
    "y_values.pop(0)\n",
    "# num_y = len(y_values)\n",
    "# print(num_y)\n",
    "len(y_values)"
   ]
  },
  {
   "cell_type": "markdown",
   "metadata": {},
   "source": [
    "# BASIC FUNCTIONS FOR ALGEBRA CALCULATION"
   ]
  },
  {
   "cell_type": "code",
   "execution_count": 7,
   "metadata": {},
   "outputs": [],
   "source": [
    "from typing import List # định nghĩa vector\n",
    "Vector = List[float]"
   ]
  },
  {
   "cell_type": "code",
   "execution_count": 8,
   "metadata": {},
   "outputs": [],
   "source": [
    "def dot(v, w) -> float:\n",
    "    return sum(v_i * w_i for v_i, w_i in zip(v, w))\n",
    "# them convert thanh float"
   ]
  },
  {
   "cell_type": "code",
   "execution_count": 9,
   "metadata": {},
   "outputs": [],
   "source": [
    "def predict(x: Vector, beta: Vector) -> float: # định nghĩa hàm dự đoán\n",
    "    return dot(x,beta)"
   ]
  },
  {
   "cell_type": "code",
   "execution_count": 10,
   "metadata": {},
   "outputs": [],
   "source": [
    "\n",
    "def vector_sum(vectors: List[Vector]) -> Vector:    # sửa lại để k bị TypeError\n",
    "    assert vectors, \"No vectors provided!\"\n",
    "    num_elements = len(vectors[0])\n",
    "    assert all(len(v) == num_elements for v in vectors), \"different sizes!\"\n",
    "    return [sum(vector[i] for vector in vectors) for i in range(num_elements)]\n",
    "    "
   ]
  },
  {
   "cell_type": "code",
   "execution_count": 11,
   "metadata": {},
   "outputs": [],
   "source": [
    "def scalar_multiply(c: float, v:Vector) ->Vector:\n",
    "    return [c *v_i for v_i in v]"
   ]
  },
  {
   "cell_type": "code",
   "execution_count": 12,
   "metadata": {},
   "outputs": [],
   "source": [
    "def vector_mean(vectors: List[Vector]) -> Vector:\n",
    "    n = len(vectors)\n",
    "    return scalar_multiply(1/n, vector_sum(vectors))"
   ]
  },
  {
   "cell_type": "markdown",
   "metadata": {},
   "source": [
    "# FUNCTION FOR CALCULATING GRADIENT DESCENT"
   ]
  },
  {
   "cell_type": "code",
   "execution_count": 13,
   "metadata": {},
   "outputs": [],
   "source": [
    "def error(x: Vector, y:float, beta: Vector) ->float:  #hàm tính sai số\n",
    "    return predict(x,beta) -y"
   ]
  },
  {
   "cell_type": "code",
   "execution_count": 14,
   "metadata": {},
   "outputs": [],
   "source": [
    "def squared_error(x:Vector, y: float, beta: Vector) -> float: # hàm tính bình phương sai số\n",
    "    return error(x,y,beta) **2"
   ]
  },
  {
   "cell_type": "code",
   "execution_count": 15,
   "metadata": {},
   "outputs": [],
   "source": [
    "def sqerror_gradient(x: Vector, y: float, beta:Vector) -> Vector:\n",
    "    err = error(x,y,beta)\n",
    "    return [2*err*x_i for x_i in x]"
   ]
  },
  {
   "cell_type": "code",
   "execution_count": 16,
   "metadata": {},
   "outputs": [],
   "source": [
    "from typing import List, Callable\n",
    "# tính toán gradient step"
   ]
  },
  {
   "cell_type": "code",
   "execution_count": 17,
   "metadata": {},
   "outputs": [],
   "source": [
    "def gradient_step(v: Vector, gradient: Vector, step_size: float) -> Vector:\n",
    "    return [v_i - step_size * gradient_i for v_i, gradient_i in zip(v, gradient)]\n",
    "# gradient step thay the, sửa cộng thành trừ"
   ]
  },
  {
   "cell_type": "code",
   "execution_count": 18,
   "metadata": {},
   "outputs": [],
   "source": [
    "def least_squares_fit(xs: List[Vector], ys: List[float], learning_rate: float = 0.00000001, num_steps: int = 10000, batch_size: int = 1) -> Vector:\n",
    "    guess = [0.0] * len(xs[0])\n",
    "    for _ in range(num_steps):\n",
    "        for start in range(0, len(xs), batch_size):\n",
    "            batch_xs = xs[start:start + batch_size]\n",
    "            batch_ys = ys[start:start + batch_size]\n",
    "            gradient = vector_mean([sqerror_gradient(x, y, guess) for x, y in zip(batch_xs, batch_ys)])\n",
    "            guess = gradient_step(guess, gradient, learning_rate)\n",
    "    return guess\n",
    "\n",
    "#least-square thay the, khong dung ttdm"
   ]
  },
  {
   "cell_type": "code",
   "execution_count": 19,
   "metadata": {},
   "outputs": [
    {
     "name": "stdout",
     "output_type": "stream",
     "text": [
      "Nghiệm tìm được bằng least_squares_fit: [-0.21473417628801061, 0.7094317193830987, 0.16693906598956734, 0.34089774332514594]\n"
     ]
    }
   ],
   "source": [
    "learning_rate = 0.00000001\n",
    "beta = least_squares_fit(vectors, y_values, learning_rate, 10000, 1)\n",
    "print(\"Nghiệm tìm được bằng least_squares_fit:\", beta)"
   ]
  },
  {
   "cell_type": "code",
   "execution_count": 20,
   "metadata": {},
   "outputs": [
    {
     "name": "stdout",
     "output_type": "stream",
     "text": [
      "Hệ số của các biến: [-0.23471659  0.74808023  0.0979574   0.39112465]\n"
     ]
    }
   ],
   "source": [
    "from sklearn.linear_model import LinearRegression\n",
    "model = LinearRegression()\n",
    "model.fit(vectors, y_values)\n",
    "print(\"Hệ số của các biến:\", model.coef_)"
   ]
  },
  {
   "cell_type": "markdown",
   "metadata": {},
   "source": [
    "# Đây là sử dụng model của sklearn để predict"
   ]
  },
  {
   "cell_type": "code",
   "execution_count": 21,
   "metadata": {},
   "outputs": [
    {
     "name": "stdout",
     "output_type": "stream",
     "text": [
      "Giá cổ phiếu dự đoán cho ngày tiếp theo: 464.9982815232448\n"
     ]
    }
   ],
   "source": [
    "# Dự đoán giá cổ phiếu cho ngày tiếp theo (giả sử sử dụng giá của ngày hiện tại)\n",
    "def predict_next_day_price(model, last_day_data):\n",
    "    next_day_prediction = model.predict([last_day_data])\n",
    "    return next_day_prediction[0]\n",
    "\n",
    "# Lấy dữ liệu của ngày cuối cùng để dự đoán ngày tiếp theo\n",
    "last_day_data = vectors[-1]\n",
    "predicted_price = predict_next_day_price(model, last_day_data)\n",
    "print(\"Giá cổ phiếu dự đoán cho ngày tiếp theo:\", predicted_price)"
   ]
  },
  {
   "cell_type": "markdown",
   "metadata": {},
   "source": [
    "# Đây là sử dụng model tự train predict, kết quả sát nhau "
   ]
  },
  {
   "cell_type": "code",
   "execution_count": 22,
   "metadata": {},
   "outputs": [
    {
     "data": {
      "text/plain": [
       "465.4227673213201"
      ]
     },
     "execution_count": 22,
     "metadata": {},
     "output_type": "execute_result"
    }
   ],
   "source": [
    "y = dot(vectors[-1], beta)\n",
    "y"
   ]
  },
  {
   "cell_type": "markdown",
   "metadata": {},
   "source": [
    "# Evaluation Matrix"
   ]
  },
  {
   "cell_type": "code",
   "execution_count": 23,
   "metadata": {},
   "outputs": [],
   "source": [
    "from sklearn.linear_model import LinearRegression\n",
    "from sklearn.metrics import r2_score, mean_squared_error"
   ]
  },
  {
   "cell_type": "code",
   "execution_count": 24,
   "metadata": {},
   "outputs": [],
   "source": [
    "# Split data into train and test sets\n",
    "split_index = int(0.8 * len(vectors))\n",
    "train_vectors, test_vectors = vectors[:split_index], vectors[split_index:]\n",
    "train_y_values, test_y_values = y_values[:split_index], y_values[split_index:]"
   ]
  },
  {
   "cell_type": "code",
   "execution_count": 25,
   "metadata": {},
   "outputs": [],
   "source": [
    "# Predictions using custom least squares fit\n",
    "train_predictions_custom = [predict(x, beta) for x in train_vectors]\n",
    "test_predictions_custom = [predict(x, beta) for x in test_vectors]"
   ]
  },
  {
   "cell_type": "code",
   "execution_count": 26,
   "metadata": {},
   "outputs": [],
   "source": [
    "# Train and predict with sklearn's LinearRegression\n",
    "model = LinearRegression()\n",
    "model.fit(train_vectors, train_y_values)\n",
    "train_predictions_sklearn = model.predict(train_vectors)\n",
    "test_predictions_sklearn = model.predict(test_vectors)"
   ]
  },
  {
   "cell_type": "code",
   "execution_count": 28,
   "metadata": {},
   "outputs": [
    {
     "name": "stdout",
     "output_type": "stream",
     "text": [
      "                      Model  R-Squared  Adjusted R-Squared  Multiple R  \\\n",
      "0      Custom Least Squares   0.991523            0.991385    0.995752   \n",
      "1  Sklearn LinearRegression   0.991403            0.991264    0.995692   \n",
      "\n",
      "   Standard Error        MSE  \n",
      "0        7.643274  58.419642  \n",
      "1        7.697023  59.244156  \n"
     ]
    }
   ],
   "source": [
    "\n",
    "# Calculating evaluation metrics\n",
    "def adjusted_r2(r2, n, p):\n",
    "    return 1 - (1 - r2) * ((n - 1) / (n - p - 1))\n",
    "\n",
    "metrics = {\n",
    "    \"Model\": [],\n",
    "    \"R-Squared\": [],\n",
    "    \"Adjusted R-Squared\": [],\n",
    "    \"Multiple R\": [],\n",
    "    \"Standard Error\": [],\n",
    "    \"MSE\": []\n",
    "}\n",
    "\n",
    "def evaluate_model(y_true, y_pred, model_name):\n",
    "    r2 = r2_score(y_true, y_pred)\n",
    "    adj_r2 = adjusted_r2(r2, len(y_true), len(train_vectors[0]))\n",
    "    mse = mean_squared_error(y_true, y_pred)\n",
    "    std_error = np.sqrt(mse)\n",
    "    metrics[\"Model\"].append(model_name)\n",
    "    metrics[\"R-Squared\"].append(r2)\n",
    "    metrics[\"Adjusted R-Squared\"].append(adj_r2)\n",
    "    metrics[\"Multiple R\"].append(np.sqrt(r2))\n",
    "    metrics[\"Standard Error\"].append(std_error)\n",
    "    metrics[\"MSE\"].append(mse)\n",
    "\n",
    "evaluate_model(test_y_values, test_predictions_custom, \"Custom Least Squares\")\n",
    "evaluate_model(test_y_values, test_predictions_sklearn, \"Sklearn LinearRegression\")\n",
    "\n",
    "# Display evaluation metrics\n",
    "evaluation_df = pd.DataFrame(metrics)\n",
    "print(evaluation_df)\n",
    "\n",
    "# Save the model\n",
    "import pickle\n",
    "\n",
    "with open('linear_regression_model.pkl', 'wb') as file:\n",
    "    pickle.dump(model, file)\n",
    "\n",
    "with open('custom_least_squares_model.pkl', 'wb') as file:\n",
    "    pickle.dump(beta, file)\n"
   ]
  }
 ],
 "metadata": {
  "kernelspec": {
   "display_name": "Python 3",
   "language": "python",
   "name": "python3"
  },
  "language_info": {
   "codemirror_mode": {
    "name": "ipython",
    "version": 3
   },
   "file_extension": ".py",
   "mimetype": "text/x-python",
   "name": "python",
   "nbconvert_exporter": "python",
   "pygments_lexer": "ipython3",
   "version": "3.12.2"
  }
 },
 "nbformat": 4,
 "nbformat_minor": 2
}
