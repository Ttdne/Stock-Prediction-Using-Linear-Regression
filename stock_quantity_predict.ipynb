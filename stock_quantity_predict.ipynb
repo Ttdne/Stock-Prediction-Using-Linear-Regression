{
 "cells": [
  {
   "cell_type": "code",
   "execution_count": 81,
   "metadata": {},
   "outputs": [],
   "source": [
    "import numpy as np\n",
    "import pandas as pd\n",
    "import yfinance as yf"
   ]
  },
  {
   "cell_type": "markdown",
   "metadata": {},
   "source": [
    "# DATA DOWNLOADING AND PROCESSING"
   ]
  },
  {
   "cell_type": "code",
   "execution_count": 82,
   "metadata": {},
   "outputs": [
    {
     "name": "stdout",
     "output_type": "stream",
     "text": [
      "{'address1': '1 Meta Way', 'city': 'Menlo Park', 'state': 'CA', 'zip': '94025', 'country': 'United States', 'phone': '650 543 4800', 'website': 'https://investor.fb.com', 'industry': 'Internet Content & Information', 'industryKey': 'internet-content-information', 'industryDisp': 'Internet Content & Information', 'sector': 'Communication Services', 'sectorKey': 'communication-services', 'sectorDisp': 'Communication Services', 'longBusinessSummary': 'Meta Platforms, Inc. engages in the development of products that enable people to connect and share with friends and family through mobile devices, personal computers, virtual reality headsets, and wearables worldwide. It operates in two segments, Family of Apps and Reality Labs. The Family of Apps segment offers Facebook, which enables people to share, discuss, discover, and connect with interests; Instagram, a community for sharing photos, videos, and private messages, as well as feed, stories, reels, video, live, and shops; Messenger, a messaging application for people to connect with friends, family, communities, and businesses across platforms and devices through text, audio, and video calls; and WhatsApp, a messaging application that is used by people and businesses to communicate and transact privately. The Reality Labs segment provides augmented and virtual reality related products comprising consumer hardware, software, and content that help people feel connected, anytime, and anywhere. The company was formerly known as Facebook, Inc. and changed its name to Meta Platforms, Inc. in October 2021. The company was incorporated in 2004 and is headquartered in Menlo Park, California', 'fullTimeEmployees': 69329, 'companyOfficers': [{'maxAge': 1, 'name': 'Mr. Mark Elliot Zuckerberg', 'age': 39, 'title': 'Founder, Chairman & CEO', 'yearBorn': 1984, 'fiscalYear': 2023, 'totalPay': 24399968, 'exercisedValue': 0, 'unexercisedValue': 0}, {'maxAge': 1, 'name': 'Ms. Susan J. S. Li', 'age': 37, 'title': 'Chief Financial Officer', 'yearBorn': 1986, 'fiscalYear': 2023, 'totalPay': 1963161, 'exercisedValue': 0, 'unexercisedValue': 0}, {'maxAge': 1, 'name': 'Mr. Javier  Olivan', 'age': 46, 'title': 'Chief Operating Officer', 'yearBorn': 1977, 'fiscalYear': 2023, 'totalPay': 4065442, 'exercisedValue': 0, 'unexercisedValue': 0}, {'maxAge': 1, 'name': 'Mr. Andrew  Bosworth', 'age': 41, 'title': 'Chief Technology Officer', 'yearBorn': 1982, 'fiscalYear': 2023, 'totalPay': 2000988, 'exercisedValue': 0, 'unexercisedValue': 0}, {'maxAge': 1, 'name': 'Mr. Christopher K. Cox', 'age': 40, 'title': 'Chief Product Officer', 'yearBorn': 1983, 'fiscalYear': 2023, 'totalPay': 2013913, 'exercisedValue': 0, 'unexercisedValue': 0}, {'maxAge': 1, 'name': 'Mr. Aaron A. Anderson', 'title': 'Chief Accounting Officer', 'fiscalYear': 2023, 'exercisedValue': 0, 'unexercisedValue': 0}, {'maxAge': 1, 'name': 'Mr. Atish  Banerjea', 'age': 57, 'title': 'Chief Information Officer', 'yearBorn': 1966, 'fiscalYear': 2023, 'exercisedValue': 0, 'unexercisedValue': 0}, {'maxAge': 1, 'name': 'Ms. Deborah T. Crawford', 'title': 'Vice President of Investor Relations', 'fiscalYear': 2023, 'exercisedValue': 0, 'unexercisedValue': 0}, {'maxAge': 1, 'name': 'Ms. Jennifer G. Newstead', 'age': 53, 'title': 'Chief Legal Officer', 'yearBorn': 1970, 'fiscalYear': 2023, 'totalPay': 3079624, 'exercisedValue': 0, 'unexercisedValue': 0}, {'maxAge': 1, 'name': 'Mr. Henry T. A. Moniz', 'age': 58, 'title': 'Chief Compliance Officer', 'yearBorn': 1965, 'fiscalYear': 2023, 'exercisedValue': 0, 'unexercisedValue': 0}], 'auditRisk': 9, 'boardRisk': 10, 'compensationRisk': 10, 'shareHolderRightsRisk': 10, 'overallRisk': 10, 'governanceEpochDate': 1714521600, 'compensationAsOfEpochDate': 1703980800, 'maxAge': 86400, 'priceHint': 2, 'previousClose': 465.78, 'open': 467.62, 'dayLow': 466.3, 'dayHigh': 468.79, 'regularMarketPreviousClose': 465.78, 'regularMarketOpen': 467.62, 'regularMarketDayLow': 466.3, 'regularMarketDayHigh': 468.79, 'dividendRate': 2.0, 'dividendYield': 0.0043, 'exDividendDate': 1708473600, 'payoutRatio': 0.028800001, 'beta': 1.208, 'trailingPE': 26.875645, 'forwardPE': 21.886076, 'volume': 998060, 'regularMarketVolume': 998060, 'averageVolume': 15768838, 'averageVolume10days': 12170930, 'averageDailyVolume10Day': 12170930, 'bid': 466.46, 'ask': 467.47, 'bidSize': 100, 'askSize': 100, 'marketCap': 1184128172032, 'fiftyTwoWeekLow': 252.71, 'fiftyTwoWeekHigh': 531.49, 'priceToSalesTrailing12Months': 8.297327, 'fiftyDayAverage': 484.3096, 'twoHundredDayAverage': 387.50415, 'trailingAnnualDividendRate': 0.5, 'trailingAnnualDividendYield': 0.0010734681, 'currency': 'USD', 'enterpriseValue': 1160979939328, 'profitMargins': 0.32062998, 'floatShares': 2186619299, 'sharesOutstanding': 2191450112, 'sharesShort': 28273581, 'sharesShortPriorMonth': 26846472, 'sharesShortPreviousMonthDate': 1711584000, 'dateShortInterest': 1714435200, 'sharesPercentSharesOut': 0.0111, 'heldPercentInsiders': 0.00183, 'heldPercentInstitutions': 0.7911, 'shortRatio': 1.42, 'shortPercentOfFloat': 0.0128999995, 'impliedSharesOutstanding': 2547429888, 'bookValue': 58.939, 'priceToBook': 7.920562, 'lastFiscalYearEnd': 1703980800, 'nextFiscalYearEnd': 1735603200, 'mostRecentQuarter': 1711843200, 'earningsQuarterlyGrowth': 1.167, 'netIncomeToCommon': 45758001152, 'trailingEps': 17.37, 'forwardEps': 21.33, 'pegRatio': 0.9, 'enterpriseToRevenue': 8.135, 'enterpriseToEbitda': 16.962, '52WeekChange': 0.77751493, 'SandP52WeekChange': 0.25262225, 'lastDividendValue': 0.5, 'lastDividendDate': 1708473600, 'exchange': 'NMS', 'quoteType': 'EQUITY', 'symbol': 'META', 'underlyingSymbol': 'META', 'shortName': 'Meta Platforms, Inc.', 'longName': 'Meta Platforms, Inc.', 'firstTradeDateEpochUtc': 1337347800, 'timeZoneFullName': 'America/New_York', 'timeZoneShortName': 'EDT', 'uuid': 'e59f1c4f-b1aa-3d70-a8c3-eb59ff3e461b', 'messageBoardId': 'finmb_20765463', 'gmtOffSetMilliseconds': -14400000, 'currentPrice': 466.83, 'targetHighPrice': 547.8, 'targetLowPrice': 240.18, 'targetMeanPrice': 473.88, 'targetMedianPrice': 480.36, 'recommendationMean': 1.8, 'recommendationKey': 'buy', 'numberOfAnalystOpinions': 52, 'totalCash': 58119999488, 'totalCashPerShare': 22.913, 'ebitda': 68446998528, 'totalDebt': 37632999424, 'quickRatio': 2.546, 'currentRatio': 2.681, 'totalRevenue': 142711996416, 'debtToEquity': 25.168, 'revenuePerShare': 55.671, 'returnOnAssets': 0.17312999, 'returnOnEquity': 0.33361, 'freeCashflow': 35132125184, 'operatingCashflow': 76360998912, 'earningsGrowth': 1.141, 'revenueGrowth': 0.273, 'grossMargins': 0.81496, 'ebitdaMargins': 0.47962, 'operatingMargins': 0.38579, 'financialCurrency': 'USD', 'trailingPegRatio': 1.0767}\n"
     ]
    }
   ],
   "source": [
    "GetFacebookInformation = yf.Ticker(\"META\")\n",
    "\n",
    "print(GetFacebookInformation.info)\n"
   ]
  },
  {
   "cell_type": "code",
   "execution_count": 83,
   "metadata": {},
   "outputs": [
    {
     "data": {
      "text/plain": [
       "Date\n",
       "2023-11-24 00:00:00-05:00    339.769501\n",
       "2023-11-27 00:00:00-05:00    335.823688\n",
       "2023-11-28 00:00:00-05:00    333.046635\n",
       "2023-11-29 00:00:00-05:00    339.329983\n",
       "2023-11-30 00:00:00-05:00    331.538250\n",
       "                                ...    \n",
       "2024-05-20 00:00:00-04:00    469.950012\n",
       "2024-05-21 00:00:00-04:00    467.119995\n",
       "2024-05-22 00:00:00-04:00    467.869995\n",
       "2024-05-23 00:00:00-04:00    472.880005\n",
       "2024-05-24 00:00:00-04:00    467.619995\n",
       "Name: Open, Length: 126, dtype: float64"
      ]
     },
     "execution_count": 83,
     "metadata": {},
     "output_type": "execute_result"
    }
   ],
   "source": [
    "# Let us  get historical stock prices for Facebook \n",
    "# covering the past few years.\n",
    "# max->maximum number of daily prices available \n",
    "# for Facebook.\n",
    "# Valid options are 1d, 5d, 1mo, 3mo, 6mo, 1y, 2y, \n",
    "# 5y, 10y and ytd.\n",
    "GetFacebookInformation.history(period=\"6mo\")['Open']\n"
   ]
  },
  {
   "cell_type": "markdown",
   "metadata": {},
   "source": [
    "BASIC FUNCTIONS FOR ALGEBRA CALCULATION"
   ]
  },
  {
   "cell_type": "code",
   "execution_count": 84,
   "metadata": {},
   "outputs": [
    {
     "data": {
      "text/html": [
       "<div>\n",
       "<style scoped>\n",
       "    .dataframe tbody tr th:only-of-type {\n",
       "        vertical-align: middle;\n",
       "    }\n",
       "\n",
       "    .dataframe tbody tr th {\n",
       "        vertical-align: top;\n",
       "    }\n",
       "\n",
       "    .dataframe thead th {\n",
       "        text-align: right;\n",
       "    }\n",
       "</style>\n",
       "<table border=\"1\" class=\"dataframe\">\n",
       "  <thead>\n",
       "    <tr style=\"text-align: right;\">\n",
       "      <th></th>\n",
       "      <th>Open</th>\n",
       "      <th>High</th>\n",
       "      <th>Low</th>\n",
       "      <th>Close</th>\n",
       "      <th>Volume</th>\n",
       "      <th>Dividends</th>\n",
       "      <th>Stock Splits</th>\n",
       "    </tr>\n",
       "    <tr>\n",
       "      <th>Date</th>\n",
       "      <th></th>\n",
       "      <th></th>\n",
       "      <th></th>\n",
       "      <th></th>\n",
       "      <th></th>\n",
       "      <th></th>\n",
       "      <th></th>\n",
       "    </tr>\n",
       "  </thead>\n",
       "  <tbody>\n",
       "    <tr>\n",
       "      <th>2019-05-24 00:00:00-04:00</th>\n",
       "      <td>182.136746</td>\n",
       "      <td>183.435371</td>\n",
       "      <td>180.638336</td>\n",
       "      <td>180.868088</td>\n",
       "      <td>8807700</td>\n",
       "      <td>0.0</td>\n",
       "      <td>0.0</td>\n",
       "    </tr>\n",
       "    <tr>\n",
       "      <th>2019-05-28 00:00:00-04:00</th>\n",
       "      <td>181.347586</td>\n",
       "      <td>184.514240</td>\n",
       "      <td>181.257685</td>\n",
       "      <td>184.114655</td>\n",
       "      <td>14843300</td>\n",
       "      <td>0.0</td>\n",
       "      <td>0.0</td>\n",
       "    </tr>\n",
       "    <tr>\n",
       "      <th>2019-05-29 00:00:00-04:00</th>\n",
       "      <td>183.305512</td>\n",
       "      <td>184.364386</td>\n",
       "      <td>181.157796</td>\n",
       "      <td>181.996902</td>\n",
       "      <td>12797700</td>\n",
       "      <td>0.0</td>\n",
       "      <td>0.0</td>\n",
       "    </tr>\n",
       "    <tr>\n",
       "      <th>2019-05-30 00:00:00-04:00</th>\n",
       "      <td>182.885958</td>\n",
       "      <td>183.285528</td>\n",
       "      <td>180.698277</td>\n",
       "      <td>182.816025</td>\n",
       "      <td>8581500</td>\n",
       "      <td>0.0</td>\n",
       "      <td>0.0</td>\n",
       "    </tr>\n",
       "    <tr>\n",
       "      <th>2019-05-31 00:00:00-04:00</th>\n",
       "      <td>180.088925</td>\n",
       "      <td>180.348644</td>\n",
       "      <td>176.972237</td>\n",
       "      <td>177.281906</td>\n",
       "      <td>15226500</td>\n",
       "      <td>0.0</td>\n",
       "      <td>0.0</td>\n",
       "    </tr>\n",
       "    <tr>\n",
       "      <th>...</th>\n",
       "      <td>...</td>\n",
       "      <td>...</td>\n",
       "      <td>...</td>\n",
       "      <td>...</td>\n",
       "      <td>...</td>\n",
       "      <td>...</td>\n",
       "      <td>...</td>\n",
       "    </tr>\n",
       "    <tr>\n",
       "      <th>2024-05-20 00:00:00-04:00</th>\n",
       "      <td>469.950012</td>\n",
       "      <td>473.200012</td>\n",
       "      <td>467.040009</td>\n",
       "      <td>468.839996</td>\n",
       "      <td>11745100</td>\n",
       "      <td>0.0</td>\n",
       "      <td>0.0</td>\n",
       "    </tr>\n",
       "    <tr>\n",
       "      <th>2024-05-21 00:00:00-04:00</th>\n",
       "      <td>467.119995</td>\n",
       "      <td>470.700012</td>\n",
       "      <td>462.269989</td>\n",
       "      <td>464.630005</td>\n",
       "      <td>11742200</td>\n",
       "      <td>0.0</td>\n",
       "      <td>0.0</td>\n",
       "    </tr>\n",
       "    <tr>\n",
       "      <th>2024-05-22 00:00:00-04:00</th>\n",
       "      <td>467.869995</td>\n",
       "      <td>473.720001</td>\n",
       "      <td>465.649994</td>\n",
       "      <td>467.779999</td>\n",
       "      <td>10078600</td>\n",
       "      <td>0.0</td>\n",
       "      <td>0.0</td>\n",
       "    </tr>\n",
       "    <tr>\n",
       "      <th>2024-05-23 00:00:00-04:00</th>\n",
       "      <td>472.880005</td>\n",
       "      <td>474.359985</td>\n",
       "      <td>461.540009</td>\n",
       "      <td>465.779999</td>\n",
       "      <td>11730000</td>\n",
       "      <td>0.0</td>\n",
       "      <td>0.0</td>\n",
       "    </tr>\n",
       "    <tr>\n",
       "      <th>2024-05-24 00:00:00-04:00</th>\n",
       "      <td>467.619995</td>\n",
       "      <td>468.790009</td>\n",
       "      <td>466.299988</td>\n",
       "      <td>466.829987</td>\n",
       "      <td>1005553</td>\n",
       "      <td>0.0</td>\n",
       "      <td>0.0</td>\n",
       "    </tr>\n",
       "  </tbody>\n",
       "</table>\n",
       "<p>1260 rows × 7 columns</p>\n",
       "</div>"
      ],
      "text/plain": [
       "                                 Open        High         Low       Close  \\\n",
       "Date                                                                        \n",
       "2019-05-24 00:00:00-04:00  182.136746  183.435371  180.638336  180.868088   \n",
       "2019-05-28 00:00:00-04:00  181.347586  184.514240  181.257685  184.114655   \n",
       "2019-05-29 00:00:00-04:00  183.305512  184.364386  181.157796  181.996902   \n",
       "2019-05-30 00:00:00-04:00  182.885958  183.285528  180.698277  182.816025   \n",
       "2019-05-31 00:00:00-04:00  180.088925  180.348644  176.972237  177.281906   \n",
       "...                               ...         ...         ...         ...   \n",
       "2024-05-20 00:00:00-04:00  469.950012  473.200012  467.040009  468.839996   \n",
       "2024-05-21 00:00:00-04:00  467.119995  470.700012  462.269989  464.630005   \n",
       "2024-05-22 00:00:00-04:00  467.869995  473.720001  465.649994  467.779999   \n",
       "2024-05-23 00:00:00-04:00  472.880005  474.359985  461.540009  465.779999   \n",
       "2024-05-24 00:00:00-04:00  467.619995  468.790009  466.299988  466.829987   \n",
       "\n",
       "                             Volume  Dividends  Stock Splits  \n",
       "Date                                                          \n",
       "2019-05-24 00:00:00-04:00   8807700        0.0           0.0  \n",
       "2019-05-28 00:00:00-04:00  14843300        0.0           0.0  \n",
       "2019-05-29 00:00:00-04:00  12797700        0.0           0.0  \n",
       "2019-05-30 00:00:00-04:00   8581500        0.0           0.0  \n",
       "2019-05-31 00:00:00-04:00  15226500        0.0           0.0  \n",
       "...                             ...        ...           ...  \n",
       "2024-05-20 00:00:00-04:00  11745100        0.0           0.0  \n",
       "2024-05-21 00:00:00-04:00  11742200        0.0           0.0  \n",
       "2024-05-22 00:00:00-04:00  10078600        0.0           0.0  \n",
       "2024-05-23 00:00:00-04:00  11730000        0.0           0.0  \n",
       "2024-05-24 00:00:00-04:00   1005553        0.0           0.0  \n",
       "\n",
       "[1260 rows x 7 columns]"
      ]
     },
     "execution_count": 84,
     "metadata": {},
     "output_type": "execute_result"
    }
   ],
   "source": [
    "# Let us  get historical stock prices for Facebook \n",
    "# covering the past few years.\n",
    "# max->maximum number of daily prices available \n",
    "# for Facebook.\n",
    "# Valid options are 1d, 5d, 1mo, 3mo, 6mo, 1y, 2y, \n",
    "# 5y,\n",
    "# 10y and ytd.\n",
    "data =  GetFacebookInformation.history(period=\"5y\")\n",
    "vectors = data[['Open', 'Close', 'High', 'Low']].values.tolist()\n",
    "# print(len(vectors))\n",
    "vectors.pop()\n",
    "# Hiển thị 5 vector đầu tiên\n",
    "# num_vectors = len(vectors)\n",
    "# print(num_vectors)\n",
    "data"
   ]
  },
  {
   "cell_type": "code",
   "execution_count": 85,
   "metadata": {},
   "outputs": [],
   "source": [
    "y_vectors = data[['Open', 'Close', 'High', 'Low']].values.tolist()\n",
    "y_values = [sum(y_vector) / 4 for y_vector in y_vectors]\n",
    "\n",
    "# Hiển thị danh sách các giá trị y\n",
    "# num_y = len(y_values)\n",
    "# print(num_y)\n",
    "# y_values.pop(0)\n",
    "# num_y = len(y_values)\n",
    "# print(num_y)"
   ]
  },
  {
   "cell_type": "markdown",
   "metadata": {},
   "source": [
    "# BASIC FUNCTIONS FOR ALGEBRA CALCULATION"
   ]
  },
  {
   "cell_type": "code",
   "execution_count": 86,
   "metadata": {},
   "outputs": [],
   "source": [
    "def dot(v,w): # hàm tính tích vô hướng\n",
    "    return sum(v_i * w_i  for v_i, w_i in zip(v,w))"
   ]
  },
  {
   "cell_type": "code",
   "execution_count": 87,
   "metadata": {},
   "outputs": [],
   "source": [
    "from typing import List # định nghĩa vector\n",
    "Vector = List[float]"
   ]
  },
  {
   "cell_type": "code",
   "execution_count": 88,
   "metadata": {},
   "outputs": [],
   "source": [
    "def predict(x: Vector, beta: Vector) -> float: # định nghĩa hàm dự đoán\n",
    "    return dot(x,beta)"
   ]
  },
  {
   "cell_type": "code",
   "execution_count": 89,
   "metadata": {},
   "outputs": [],
   "source": [
    "\n",
    "def vector_sum(vectors: List[Vector]) ->Vector:\n",
    "    assert vectors, \"no vectors provided!\"\n",
    "    num_elements = len(vectors[0])\n",
    "    assert all(len(v) == num_elements for v  in vectors), \"different sizes!\"\n",
    "    \n",
    "    return [sum(vector[i]) for vector in vectors\n",
    "            for i in range(num_elements)]\n",
    "    "
   ]
  },
  {
   "cell_type": "code",
   "execution_count": 90,
   "metadata": {},
   "outputs": [],
   "source": [
    "def scalar_multiply(c: float, v:Vector) ->Vector:\n",
    "    return [c *v_i for v_i in v]"
   ]
  },
  {
   "cell_type": "code",
   "execution_count": 91,
   "metadata": {},
   "outputs": [],
   "source": [
    "def vector_mean(vectors: List[Vector]) -> Vector:\n",
    "    n = len(vectors)\n",
    "    return scalar_multiply(1/n, vector_sum(vectors))"
   ]
  },
  {
   "cell_type": "markdown",
   "metadata": {},
   "source": [
    "# FUNCTION FOR CALCULATING GRADIENT DESCENT"
   ]
  },
  {
   "cell_type": "code",
   "execution_count": 92,
   "metadata": {},
   "outputs": [],
   "source": [
    "def error(x: Vector, y:float, beta: Vector) ->float:  #hàm tính sai số\n",
    "    return predict(x,beta) -y"
   ]
  },
  {
   "cell_type": "code",
   "execution_count": 93,
   "metadata": {},
   "outputs": [],
   "source": [
    "def squared_error(x:Vector, y: float, beta: Vector) -> float: # hàm tính bình phương sai số\n",
    "    return error(x,y,beta) **2"
   ]
  },
  {
   "cell_type": "code",
   "execution_count": 94,
   "metadata": {},
   "outputs": [],
   "source": [
    "def sqerror_gradient(x: Vector, y: float, beta:Vector) -> Vector:\n",
    "    err = error(x,y,beta)\n",
    "    return [2*err*x_i for x_i in x]"
   ]
  },
  {
   "cell_type": "code",
   "execution_count": 95,
   "metadata": {},
   "outputs": [],
   "source": [
    "from typing import List, Callable\n",
    "# tính toán gradient step\n",
    "def gradient_step(v: Vector, gradient: Vector, step_size: float) -> Vector:\n",
    "    \"\"\"Take a step in the direction of the gradient.\"\"\"\n",
    "    # Trả về vector mới là sự kết hợp tuyến tính của vector ban đầu và gradient,\n",
    "    # với mỗi phần tử được cập nhật bằng cách thêm vào nó một lượng bằng step_size nhân với gradient tương ứng.\n",
    "    return [v_i + step_size * gradient_i for v_i, gradient_i in zip(v, gradient)]"
   ]
  },
  {
   "cell_type": "code",
   "execution_count": 96,
   "metadata": {},
   "outputs": [],
   "source": [
    "import random\n",
    "import tqdm\n",
    "def least_squares_fit(xs:List[Vector], ys: List[float], learning_rate: float = 0.001, num_steps: int=1000, batch_size: int =1) -> Vector:\n",
    "    #Find the beta that minimizes the sum of squared errors assuming the model y = dot(x, beta).\n",
    "    # Start with a random guess\n",
    "    guess = [random.random() for _ in xs[0]]\n",
    "    for _ in tqdm.trange(num_steps, desc=\"least squares fit\"):\n",
    "        for start in range(0, len(xs), batch_size):\n",
    "            batch_xs = xs[start:start + batch_size]\n",
    "            batch_ys = ys[start: start + batch_size]\n",
    "            \n",
    "            gradient = vector_mean([sqerror_gradient(x,y,guess) for x,y in zip(batch_xs, batch_ys)])\n",
    "            guess = gradient_step(guess, gradient, learning_rate)\n",
    "            \n",
    "            return guess"
   ]
  },
  {
   "cell_type": "code",
   "execution_count": 97,
   "metadata": {},
   "outputs": [
    {
     "name": "stderr",
     "output_type": "stream",
     "text": [
      "least squares fit:   0%|          | 0/1 [00:00<?, ?it/s]\n"
     ]
    },
    {
     "ename": "TypeError",
     "evalue": "'float' object is not iterable",
     "output_type": "error",
     "traceback": [
      "\u001b[1;31m---------------------------------------------------------------------------\u001b[0m",
      "\u001b[1;31mTypeError\u001b[0m                                 Traceback (most recent call last)",
      "Cell \u001b[1;32mIn[97], line 2\u001b[0m\n\u001b[0;32m      1\u001b[0m learning_rate \u001b[38;5;241m=\u001b[39m \u001b[38;5;241m0.001\u001b[39m\n\u001b[1;32m----> 2\u001b[0m beta \u001b[38;5;241m=\u001b[39m \u001b[43mleast_squares_fit\u001b[49m\u001b[43m(\u001b[49m\u001b[43mvectors\u001b[49m\u001b[43m,\u001b[49m\u001b[43m \u001b[49m\u001b[43my_values\u001b[49m\u001b[43m,\u001b[49m\u001b[43m \u001b[49m\u001b[43mlearning_rate\u001b[49m\u001b[43m,\u001b[49m\u001b[43m \u001b[49m\u001b[38;5;241;43m1\u001b[39;49m\u001b[43m,\u001b[49m\u001b[43m \u001b[49m\u001b[38;5;241;43m1\u001b[39;49m\u001b[43m)\u001b[49m\n\u001b[0;32m      3\u001b[0m \u001b[38;5;28mprint\u001b[39m(beta)\n",
      "Cell \u001b[1;32mIn[96], line 12\u001b[0m, in \u001b[0;36mleast_squares_fit\u001b[1;34m(xs, ys, learning_rate, num_steps, batch_size)\u001b[0m\n\u001b[0;32m      9\u001b[0m batch_xs \u001b[38;5;241m=\u001b[39m xs[start:start \u001b[38;5;241m+\u001b[39m batch_size]\n\u001b[0;32m     10\u001b[0m batch_ys \u001b[38;5;241m=\u001b[39m ys[start: start \u001b[38;5;241m+\u001b[39m batch_size]\n\u001b[1;32m---> 12\u001b[0m gradient \u001b[38;5;241m=\u001b[39m \u001b[43mvector_mean\u001b[49m\u001b[43m(\u001b[49m\u001b[43m[\u001b[49m\u001b[43msqerror_gradient\u001b[49m\u001b[43m(\u001b[49m\u001b[43mx\u001b[49m\u001b[43m,\u001b[49m\u001b[43my\u001b[49m\u001b[43m,\u001b[49m\u001b[43mguess\u001b[49m\u001b[43m)\u001b[49m\u001b[43m \u001b[49m\u001b[38;5;28;43;01mfor\u001b[39;49;00m\u001b[43m \u001b[49m\u001b[43mx\u001b[49m\u001b[43m,\u001b[49m\u001b[43my\u001b[49m\u001b[43m \u001b[49m\u001b[38;5;129;43;01min\u001b[39;49;00m\u001b[43m \u001b[49m\u001b[38;5;28;43mzip\u001b[39;49m\u001b[43m(\u001b[49m\u001b[43mbatch_xs\u001b[49m\u001b[43m,\u001b[49m\u001b[43m \u001b[49m\u001b[43mbatch_ys\u001b[49m\u001b[43m)\u001b[49m\u001b[43m]\u001b[49m\u001b[43m)\u001b[49m\n\u001b[0;32m     13\u001b[0m guess \u001b[38;5;241m=\u001b[39m gradient_step(guess, gradient, learning_rate)\n\u001b[0;32m     15\u001b[0m \u001b[38;5;28;01mreturn\u001b[39;00m guess\n",
      "Cell \u001b[1;32mIn[91], line 3\u001b[0m, in \u001b[0;36mvector_mean\u001b[1;34m(vectors)\u001b[0m\n\u001b[0;32m      1\u001b[0m \u001b[38;5;28;01mdef\u001b[39;00m \u001b[38;5;21mvector_mean\u001b[39m(vectors: List[Vector]) \u001b[38;5;241m-\u001b[39m\u001b[38;5;241m>\u001b[39m Vector:\n\u001b[0;32m      2\u001b[0m     n \u001b[38;5;241m=\u001b[39m \u001b[38;5;28mlen\u001b[39m(vectors)\n\u001b[1;32m----> 3\u001b[0m     \u001b[38;5;28;01mreturn\u001b[39;00m scalar_multiply(\u001b[38;5;241m1\u001b[39m\u001b[38;5;241m/\u001b[39mn, \u001b[43mvector_sum\u001b[49m\u001b[43m(\u001b[49m\u001b[43mvectors\u001b[49m\u001b[43m)\u001b[49m)\n",
      "Cell \u001b[1;32mIn[89], line 6\u001b[0m, in \u001b[0;36mvector_sum\u001b[1;34m(vectors)\u001b[0m\n\u001b[0;32m      3\u001b[0m num_elements \u001b[38;5;241m=\u001b[39m \u001b[38;5;28mlen\u001b[39m(vectors[\u001b[38;5;241m0\u001b[39m])\n\u001b[0;32m      4\u001b[0m \u001b[38;5;28;01massert\u001b[39;00m \u001b[38;5;28mall\u001b[39m(\u001b[38;5;28mlen\u001b[39m(v) \u001b[38;5;241m==\u001b[39m num_elements \u001b[38;5;28;01mfor\u001b[39;00m v  \u001b[38;5;129;01min\u001b[39;00m vectors), \u001b[38;5;124m\"\u001b[39m\u001b[38;5;124mdifferent sizes!\u001b[39m\u001b[38;5;124m\"\u001b[39m\n\u001b[1;32m----> 6\u001b[0m \u001b[38;5;28;01mreturn\u001b[39;00m [\u001b[38;5;28;43msum\u001b[39;49m\u001b[43m(\u001b[49m\u001b[43mvector\u001b[49m\u001b[43m[\u001b[49m\u001b[43mi\u001b[49m\u001b[43m]\u001b[49m\u001b[43m)\u001b[49m \u001b[38;5;28;01mfor\u001b[39;00m vector \u001b[38;5;129;01min\u001b[39;00m vectors\n\u001b[0;32m      7\u001b[0m         \u001b[38;5;28;01mfor\u001b[39;00m i \u001b[38;5;129;01min\u001b[39;00m \u001b[38;5;28mrange\u001b[39m(num_elements)]\n",
      "\u001b[1;31mTypeError\u001b[0m: 'float' object is not iterable"
     ]
    }
   ],
   "source": [
    "learning_rate = 0.001\n",
    "beta = least_squares_fit(vectors, y_values, learning_rate, 1, 1)\n",
    "print(beta)"
   ]
  },
  {
   "cell_type": "code",
   "execution_count": 77,
   "metadata": {},
   "outputs": [
    {
     "ename": "ValueError",
     "evalue": "Found input variables with inconsistent numbers of samples: [1259, 1260]",
     "output_type": "error",
     "traceback": [
      "\u001b[1;31m---------------------------------------------------------------------------\u001b[0m",
      "\u001b[1;31mValueError\u001b[0m                                Traceback (most recent call last)",
      "Cell \u001b[1;32mIn[77], line 3\u001b[0m\n\u001b[0;32m      1\u001b[0m \u001b[38;5;28;01mfrom\u001b[39;00m \u001b[38;5;21;01msklearn\u001b[39;00m\u001b[38;5;21;01m.\u001b[39;00m\u001b[38;5;21;01mlinear_model\u001b[39;00m \u001b[38;5;28;01mimport\u001b[39;00m LinearRegression\n\u001b[0;32m      2\u001b[0m model \u001b[38;5;241m=\u001b[39m LinearRegression()\n\u001b[1;32m----> 3\u001b[0m \u001b[43mmodel\u001b[49m\u001b[38;5;241;43m.\u001b[39;49m\u001b[43mfit\u001b[49m\u001b[43m(\u001b[49m\u001b[43mvectors\u001b[49m\u001b[43m,\u001b[49m\u001b[43m \u001b[49m\u001b[43my_values\u001b[49m\u001b[43m)\u001b[49m\n\u001b[0;32m      4\u001b[0m \u001b[38;5;28mprint\u001b[39m(\u001b[38;5;124m\"\u001b[39m\u001b[38;5;124mHệ số của các biến:\u001b[39m\u001b[38;5;124m\"\u001b[39m, model\u001b[38;5;241m.\u001b[39mcoef_)\n",
      "File \u001b[1;32mc:\\Users\\Nitro Tiger\\AppData\\Local\\Programs\\Python\\Python312\\Lib\\site-packages\\sklearn\\base.py:1474\u001b[0m, in \u001b[0;36m_fit_context.<locals>.decorator.<locals>.wrapper\u001b[1;34m(estimator, *args, **kwargs)\u001b[0m\n\u001b[0;32m   1467\u001b[0m     estimator\u001b[38;5;241m.\u001b[39m_validate_params()\n\u001b[0;32m   1469\u001b[0m \u001b[38;5;28;01mwith\u001b[39;00m config_context(\n\u001b[0;32m   1470\u001b[0m     skip_parameter_validation\u001b[38;5;241m=\u001b[39m(\n\u001b[0;32m   1471\u001b[0m         prefer_skip_nested_validation \u001b[38;5;129;01mor\u001b[39;00m global_skip_validation\n\u001b[0;32m   1472\u001b[0m     )\n\u001b[0;32m   1473\u001b[0m ):\n\u001b[1;32m-> 1474\u001b[0m     \u001b[38;5;28;01mreturn\u001b[39;00m \u001b[43mfit_method\u001b[49m\u001b[43m(\u001b[49m\u001b[43mestimator\u001b[49m\u001b[43m,\u001b[49m\u001b[43m \u001b[49m\u001b[38;5;241;43m*\u001b[39;49m\u001b[43margs\u001b[49m\u001b[43m,\u001b[49m\u001b[43m \u001b[49m\u001b[38;5;241;43m*\u001b[39;49m\u001b[38;5;241;43m*\u001b[39;49m\u001b[43mkwargs\u001b[49m\u001b[43m)\u001b[49m\n",
      "File \u001b[1;32mc:\\Users\\Nitro Tiger\\AppData\\Local\\Programs\\Python\\Python312\\Lib\\site-packages\\sklearn\\linear_model\\_base.py:578\u001b[0m, in \u001b[0;36mLinearRegression.fit\u001b[1;34m(self, X, y, sample_weight)\u001b[0m\n\u001b[0;32m    574\u001b[0m n_jobs_ \u001b[38;5;241m=\u001b[39m \u001b[38;5;28mself\u001b[39m\u001b[38;5;241m.\u001b[39mn_jobs\n\u001b[0;32m    576\u001b[0m accept_sparse \u001b[38;5;241m=\u001b[39m \u001b[38;5;28;01mFalse\u001b[39;00m \u001b[38;5;28;01mif\u001b[39;00m \u001b[38;5;28mself\u001b[39m\u001b[38;5;241m.\u001b[39mpositive \u001b[38;5;28;01melse\u001b[39;00m [\u001b[38;5;124m\"\u001b[39m\u001b[38;5;124mcsr\u001b[39m\u001b[38;5;124m\"\u001b[39m, \u001b[38;5;124m\"\u001b[39m\u001b[38;5;124mcsc\u001b[39m\u001b[38;5;124m\"\u001b[39m, \u001b[38;5;124m\"\u001b[39m\u001b[38;5;124mcoo\u001b[39m\u001b[38;5;124m\"\u001b[39m]\n\u001b[1;32m--> 578\u001b[0m X, y \u001b[38;5;241m=\u001b[39m \u001b[38;5;28;43mself\u001b[39;49m\u001b[38;5;241;43m.\u001b[39;49m\u001b[43m_validate_data\u001b[49m\u001b[43m(\u001b[49m\n\u001b[0;32m    579\u001b[0m \u001b[43m    \u001b[49m\u001b[43mX\u001b[49m\u001b[43m,\u001b[49m\u001b[43m \u001b[49m\u001b[43my\u001b[49m\u001b[43m,\u001b[49m\u001b[43m \u001b[49m\u001b[43maccept_sparse\u001b[49m\u001b[38;5;241;43m=\u001b[39;49m\u001b[43maccept_sparse\u001b[49m\u001b[43m,\u001b[49m\u001b[43m \u001b[49m\u001b[43my_numeric\u001b[49m\u001b[38;5;241;43m=\u001b[39;49m\u001b[38;5;28;43;01mTrue\u001b[39;49;00m\u001b[43m,\u001b[49m\u001b[43m \u001b[49m\u001b[43mmulti_output\u001b[49m\u001b[38;5;241;43m=\u001b[39;49m\u001b[38;5;28;43;01mTrue\u001b[39;49;00m\n\u001b[0;32m    580\u001b[0m \u001b[43m\u001b[49m\u001b[43m)\u001b[49m\n\u001b[0;32m    582\u001b[0m has_sw \u001b[38;5;241m=\u001b[39m sample_weight \u001b[38;5;129;01mis\u001b[39;00m \u001b[38;5;129;01mnot\u001b[39;00m \u001b[38;5;28;01mNone\u001b[39;00m\n\u001b[0;32m    583\u001b[0m \u001b[38;5;28;01mif\u001b[39;00m has_sw:\n",
      "File \u001b[1;32mc:\\Users\\Nitro Tiger\\AppData\\Local\\Programs\\Python\\Python312\\Lib\\site-packages\\sklearn\\base.py:650\u001b[0m, in \u001b[0;36mBaseEstimator._validate_data\u001b[1;34m(self, X, y, reset, validate_separately, cast_to_ndarray, **check_params)\u001b[0m\n\u001b[0;32m    648\u001b[0m         y \u001b[38;5;241m=\u001b[39m check_array(y, input_name\u001b[38;5;241m=\u001b[39m\u001b[38;5;124m\"\u001b[39m\u001b[38;5;124my\u001b[39m\u001b[38;5;124m\"\u001b[39m, \u001b[38;5;241m*\u001b[39m\u001b[38;5;241m*\u001b[39mcheck_y_params)\n\u001b[0;32m    649\u001b[0m     \u001b[38;5;28;01melse\u001b[39;00m:\n\u001b[1;32m--> 650\u001b[0m         X, y \u001b[38;5;241m=\u001b[39m \u001b[43mcheck_X_y\u001b[49m\u001b[43m(\u001b[49m\u001b[43mX\u001b[49m\u001b[43m,\u001b[49m\u001b[43m \u001b[49m\u001b[43my\u001b[49m\u001b[43m,\u001b[49m\u001b[43m \u001b[49m\u001b[38;5;241;43m*\u001b[39;49m\u001b[38;5;241;43m*\u001b[39;49m\u001b[43mcheck_params\u001b[49m\u001b[43m)\u001b[49m\n\u001b[0;32m    651\u001b[0m     out \u001b[38;5;241m=\u001b[39m X, y\n\u001b[0;32m    653\u001b[0m \u001b[38;5;28;01mif\u001b[39;00m \u001b[38;5;129;01mnot\u001b[39;00m no_val_X \u001b[38;5;129;01mand\u001b[39;00m check_params\u001b[38;5;241m.\u001b[39mget(\u001b[38;5;124m\"\u001b[39m\u001b[38;5;124mensure_2d\u001b[39m\u001b[38;5;124m\"\u001b[39m, \u001b[38;5;28;01mTrue\u001b[39;00m):\n",
      "File \u001b[1;32mc:\\Users\\Nitro Tiger\\AppData\\Local\\Programs\\Python\\Python312\\Lib\\site-packages\\sklearn\\utils\\validation.py:1281\u001b[0m, in \u001b[0;36mcheck_X_y\u001b[1;34m(X, y, accept_sparse, accept_large_sparse, dtype, order, copy, force_all_finite, ensure_2d, allow_nd, multi_output, ensure_min_samples, ensure_min_features, y_numeric, estimator)\u001b[0m\n\u001b[0;32m   1263\u001b[0m X \u001b[38;5;241m=\u001b[39m check_array(\n\u001b[0;32m   1264\u001b[0m     X,\n\u001b[0;32m   1265\u001b[0m     accept_sparse\u001b[38;5;241m=\u001b[39maccept_sparse,\n\u001b[1;32m   (...)\u001b[0m\n\u001b[0;32m   1276\u001b[0m     input_name\u001b[38;5;241m=\u001b[39m\u001b[38;5;124m\"\u001b[39m\u001b[38;5;124mX\u001b[39m\u001b[38;5;124m\"\u001b[39m,\n\u001b[0;32m   1277\u001b[0m )\n\u001b[0;32m   1279\u001b[0m y \u001b[38;5;241m=\u001b[39m _check_y(y, multi_output\u001b[38;5;241m=\u001b[39mmulti_output, y_numeric\u001b[38;5;241m=\u001b[39my_numeric, estimator\u001b[38;5;241m=\u001b[39mestimator)\n\u001b[1;32m-> 1281\u001b[0m \u001b[43mcheck_consistent_length\u001b[49m\u001b[43m(\u001b[49m\u001b[43mX\u001b[49m\u001b[43m,\u001b[49m\u001b[43m \u001b[49m\u001b[43my\u001b[49m\u001b[43m)\u001b[49m\n\u001b[0;32m   1283\u001b[0m \u001b[38;5;28;01mreturn\u001b[39;00m X, y\n",
      "File \u001b[1;32mc:\\Users\\Nitro Tiger\\AppData\\Local\\Programs\\Python\\Python312\\Lib\\site-packages\\sklearn\\utils\\validation.py:457\u001b[0m, in \u001b[0;36mcheck_consistent_length\u001b[1;34m(*arrays)\u001b[0m\n\u001b[0;32m    455\u001b[0m uniques \u001b[38;5;241m=\u001b[39m np\u001b[38;5;241m.\u001b[39munique(lengths)\n\u001b[0;32m    456\u001b[0m \u001b[38;5;28;01mif\u001b[39;00m \u001b[38;5;28mlen\u001b[39m(uniques) \u001b[38;5;241m>\u001b[39m \u001b[38;5;241m1\u001b[39m:\n\u001b[1;32m--> 457\u001b[0m     \u001b[38;5;28;01mraise\u001b[39;00m \u001b[38;5;167;01mValueError\u001b[39;00m(\n\u001b[0;32m    458\u001b[0m         \u001b[38;5;124m\"\u001b[39m\u001b[38;5;124mFound input variables with inconsistent numbers of samples: \u001b[39m\u001b[38;5;132;01m%r\u001b[39;00m\u001b[38;5;124m\"\u001b[39m\n\u001b[0;32m    459\u001b[0m         \u001b[38;5;241m%\u001b[39m [\u001b[38;5;28mint\u001b[39m(l) \u001b[38;5;28;01mfor\u001b[39;00m l \u001b[38;5;129;01min\u001b[39;00m lengths]\n\u001b[0;32m    460\u001b[0m     )\n",
      "\u001b[1;31mValueError\u001b[0m: Found input variables with inconsistent numbers of samples: [1259, 1260]"
     ]
    }
   ],
   "source": [
    "from sklearn.linear_model import LinearRegression\n",
    "model = LinearRegression()\n",
    "model.fit(vectors, y_values)\n",
    "print(\"Hệ số của các biến:\", model.coef_)\n"
   ]
  },
  {
   "cell_type": "code",
   "execution_count": 43,
   "metadata": {},
   "outputs": [
    {
     "ename": "NameError",
     "evalue": "name 'predicted_price' is not defined",
     "output_type": "error",
     "traceback": [
      "\u001b[1;31m---------------------------------------------------------------------------\u001b[0m",
      "\u001b[1;31mNameError\u001b[0m                                 Traceback (most recent call last)",
      "Cell \u001b[1;32mIn[43], line 1\u001b[0m\n\u001b[1;32m----> 1\u001b[0m \u001b[43mpredicted_price\u001b[49m\n",
      "\u001b[1;31mNameError\u001b[0m: name 'predicted_price' is not defined"
     ]
    }
   ],
   "source": [
    "predicted_price"
   ]
  },
  {
   "cell_type": "markdown",
   "metadata": {},
   "source": [
    "# Fix float not iterable"
   ]
  },
  {
   "cell_type": "code",
   "execution_count": 78,
   "metadata": {},
   "outputs": [
    {
     "name": "stdout",
     "output_type": "stream",
     "text": [
      "[0.14160582154044998, 0.3875723297248375]\n"
     ]
    }
   ],
   "source": [
    "from typing import List\n",
    "\n",
    "Vector = List[float]\n",
    "\n",
    "def vector_sum(vectors: List[Vector]) -> Vector:\n",
    "    assert vectors, \"No vectors provided!\"\n",
    "    num_elements = len(vectors[0])\n",
    "    assert all(len(v) == num_elements for v in vectors), \"different sizes!\"\n",
    "    return [sum(vector[i] for vector in vectors) for i in range(num_elements)]\n",
    "\n",
    "def scalar_multiply(c: float, v: Vector) -> Vector:\n",
    "    return [c * v_i for v_i in v]\n",
    "\n",
    "def vector_mean(vectors: List[Vector]) -> Vector:\n",
    "    n = len(vectors)\n",
    "    return scalar_multiply(1/n, vector_sum(vectors))\n",
    "\n",
    "# Example usage\n",
    "def sqerror_gradient(x, y, theta):\n",
    "    return [2 * (dot(x, theta) - y) * x_i for x_i in x]\n",
    "\n",
    "def dot(v: Vector, w: Vector) -> float:\n",
    "    return sum(v_i * w_i for v_i, w_i in zip(v, w))\n",
    "\n",
    "def gradient_step(v: Vector, gradient: Vector, step_size: float) -> Vector:\n",
    "    return [v_i - step_size * gradient_i for v_i, gradient_i in zip(v, gradient)]\n",
    "\n",
    "def least_squares_fit(xs: List[Vector], ys: List[float], learning_rate: float, num_steps: int, batch_size: int) -> Vector:\n",
    "    guess = [0.0] * len(xs[0])\n",
    "    for _ in range(num_steps):\n",
    "        for start in range(0, len(xs), batch_size):\n",
    "            batch_xs = xs[start:start + batch_size]\n",
    "            batch_ys = ys[start: start + batch_size]\n",
    "            gradient = vector_mean([sqerror_gradient(x, y, guess) for x, y in zip(batch_xs, batch_ys)])\n",
    "            guess = gradient_step(guess, gradient, learning_rate)\n",
    "    return guess\n",
    "\n",
    "# Test data\n",
    "vectors = [[1, 2], [3, 4], [5, 6]]\n",
    "y_values = [1, 2, 3]\n",
    "learning_rate = 0.001\n",
    "\n",
    "# Perform least squares fit\n",
    "beta = least_squares_fit(vectors, y_values, learning_rate, 1000, 1)\n",
    "print(beta)\n"
   ]
  },
  {
   "cell_type": "code",
   "execution_count": 79,
   "metadata": {},
   "outputs": [
    {
     "name": "stdout",
     "output_type": "stream",
     "text": [
      "Hệ số của các biến: [0.25 0.25]\n"
     ]
    }
   ],
   "source": [
    "from sklearn.linear_model import LinearRegression\n",
    "model = LinearRegression()\n",
    "model.fit(vectors, y_values)\n",
    "print(\"Hệ số của các biến:\", model.coef_)"
   ]
  }
 ],
 "metadata": {
  "kernelspec": {
   "display_name": "Python 3",
   "language": "python",
   "name": "python3"
  },
  "language_info": {
   "codemirror_mode": {
    "name": "ipython",
    "version": 3
   },
   "file_extension": ".py",
   "mimetype": "text/x-python",
   "name": "python",
   "nbconvert_exporter": "python",
   "pygments_lexer": "ipython3",
   "version": "3.12.2"
  }
 },
 "nbformat": 4,
 "nbformat_minor": 2
}
