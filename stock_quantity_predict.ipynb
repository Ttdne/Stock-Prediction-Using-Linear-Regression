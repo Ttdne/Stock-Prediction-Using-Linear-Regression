{
 "cells": [
  {
   "cell_type": "code",
   "execution_count": 1,
   "metadata": {},
   "outputs": [],
   "source": [
    "import numpy as np\n",
    "import pandas as pd\n",
    "import yfinance as yf\n",
    "from typing import List"
   ]
  },
  {
   "cell_type": "markdown",
   "metadata": {},
   "source": [
    "# DATA DOWNLOADING AND PROCESSING"
   ]
  },
  {
   "cell_type": "code",
   "execution_count": 2,
   "metadata": {},
   "outputs": [
    {
     "name": "stdout",
     "output_type": "stream",
     "text": [
      "{'address1': '1 Meta Way', 'city': 'Menlo Park', 'state': 'CA', 'zip': '94025', 'country': 'United States', 'phone': '650 543 4800', 'website': 'https://investor.fb.com', 'industry': 'Internet Content & Information', 'industryKey': 'internet-content-information', 'industryDisp': 'Internet Content & Information', 'sector': 'Communication Services', 'sectorKey': 'communication-services', 'sectorDisp': 'Communication Services', 'longBusinessSummary': 'Meta Platforms, Inc. engages in the development of products that enable people to connect and share with friends and family through mobile devices, personal computers, virtual reality headsets, and wearables worldwide. It operates in two segments, Family of Apps and Reality Labs. The Family of Apps segment offers Facebook, which enables people to share, discuss, discover, and connect with interests; Instagram, a community for sharing photos, videos, and private messages, as well as feed, stories, reels, video, live, and shops; Messenger, a messaging application for people to connect with friends, family, communities, and businesses across platforms and devices through text, audio, and video calls; and WhatsApp, a messaging application that is used by people and businesses to communicate and transact privately. The Reality Labs segment provides augmented and virtual reality related products comprising consumer hardware, software, and content that help people feel connected, anytime, and anywhere. The company was formerly known as Facebook, Inc. and changed its name to Meta Platforms, Inc. in October 2021. The company was incorporated in 2004 and is headquartered in Menlo Park, California', 'fullTimeEmployees': 69329, 'companyOfficers': [{'maxAge': 1, 'name': 'Mr. Mark Elliot Zuckerberg', 'age': 39, 'title': 'Founder, Chairman & CEO', 'yearBorn': 1984, 'fiscalYear': 2023, 'totalPay': 24399968, 'exercisedValue': 0, 'unexercisedValue': 0}, {'maxAge': 1, 'name': 'Ms. Susan J. S. Li', 'age': 37, 'title': 'Chief Financial Officer', 'yearBorn': 1986, 'fiscalYear': 2023, 'totalPay': 1963161, 'exercisedValue': 0, 'unexercisedValue': 0}, {'maxAge': 1, 'name': 'Mr. Javier  Olivan', 'age': 46, 'title': 'Chief Operating Officer', 'yearBorn': 1977, 'fiscalYear': 2023, 'totalPay': 4065442, 'exercisedValue': 0, 'unexercisedValue': 0}, {'maxAge': 1, 'name': 'Mr. Andrew  Bosworth', 'age': 41, 'title': 'Chief Technology Officer', 'yearBorn': 1982, 'fiscalYear': 2023, 'totalPay': 2000988, 'exercisedValue': 0, 'unexercisedValue': 0}, {'maxAge': 1, 'name': 'Mr. Christopher K. Cox', 'age': 40, 'title': 'Chief Product Officer', 'yearBorn': 1983, 'fiscalYear': 2023, 'totalPay': 2013913, 'exercisedValue': 0, 'unexercisedValue': 0}, {'maxAge': 1, 'name': 'Mr. Aaron A. Anderson', 'title': 'Chief Accounting Officer', 'fiscalYear': 2023, 'exercisedValue': 0, 'unexercisedValue': 0}, {'maxAge': 1, 'name': 'Mr. Atish  Banerjea', 'age': 57, 'title': 'Chief Information Officer', 'yearBorn': 1966, 'fiscalYear': 2023, 'exercisedValue': 0, 'unexercisedValue': 0}, {'maxAge': 1, 'name': 'Ms. Deborah T. Crawford', 'title': 'Vice President of Investor Relations', 'fiscalYear': 2023, 'exercisedValue': 0, 'unexercisedValue': 0}, {'maxAge': 1, 'name': 'Ms. Jennifer G. Newstead', 'age': 53, 'title': 'Chief Legal Officer', 'yearBorn': 1970, 'fiscalYear': 2023, 'totalPay': 3079624, 'exercisedValue': 0, 'unexercisedValue': 0}, {'maxAge': 1, 'name': 'Mr. Henry T. A. Moniz', 'age': 58, 'title': 'Chief Compliance Officer', 'yearBorn': 1965, 'fiscalYear': 2023, 'exercisedValue': 0, 'unexercisedValue': 0}], 'auditRisk': 9, 'boardRisk': 10, 'compensationRisk': 10, 'shareHolderRightsRisk': 10, 'overallRisk': 10, 'governanceEpochDate': 1714521600, 'compensationAsOfEpochDate': 1703980800, 'maxAge': 86400, 'priceHint': 2, 'previousClose': 465.78, 'open': 467.62, 'dayLow': 466.3, 'dayHigh': 479.8499, 'regularMarketPreviousClose': 465.78, 'regularMarketOpen': 467.62, 'regularMarketDayLow': 466.3, 'regularMarketDayHigh': 479.8499, 'dividendRate': 2.0, 'dividendYield': 0.0042, 'exDividendDate': 1708473600, 'payoutRatio': 0.028800001, 'beta': 1.208, 'trailingPE': 27.547234, 'forwardPE': 22.399063, 'volume': 11952834, 'regularMarketVolume': 11952834, 'averageVolume': 15767707, 'averageVolume10days': 12298950, 'averageDailyVolume10Day': 12298950, 'bid': 478.01, 'ask': 478.27, 'bidSize': 100, 'askSize': 100, 'marketCap': 1213019324416, 'fiftyTwoWeekLow': 258.45, 'fiftyTwoWeekHigh': 531.49, 'priceToSalesTrailing12Months': 8.499771, 'fiftyDayAverage': 484.0374, 'twoHundredDayAverage': 388.3692, 'trailingAnnualDividendRate': 0.5, 'trailingAnnualDividendYield': 0.0010734681, 'currency': 'USD', 'enterpriseValue': 1192534343680, 'profitMargins': 0.32062998, 'floatShares': 2186619299, 'sharesOutstanding': 2191450112, 'sharesShort': 28273581, 'sharesShortPriorMonth': 26846472, 'sharesShortPreviousMonthDate': 1711584000, 'dateShortInterest': 1714435200, 'sharesPercentSharesOut': 0.0111, 'heldPercentInsiders': 0.00183, 'heldPercentInstitutions': 0.79127, 'shortRatio': 1.42, 'shortPercentOfFloat': 0.0128999995, 'impliedSharesOutstanding': 2547429888, 'bookValue': 58.939, 'priceToBook': 8.113812, 'lastFiscalYearEnd': 1703980800, 'nextFiscalYearEnd': 1735603200, 'mostRecentQuarter': 1711843200, 'earningsQuarterlyGrowth': 1.167, 'netIncomeToCommon': 45758001152, 'trailingEps': 17.36, 'forwardEps': 23.08, 'pegRatio': 0.9, 'enterpriseToRevenue': 8.356, 'enterpriseToEbitda': 17.423, '52WeekChange': 0.8216517, 'SandP52WeekChange': 0.26137078, 'lastDividendValue': 0.5, 'lastDividendDate': 1708473600, 'exchange': 'NMS', 'quoteType': 'EQUITY', 'symbol': 'META', 'underlyingSymbol': 'META', 'shortName': 'Meta Platforms, Inc.', 'longName': 'Meta Platforms, Inc.', 'firstTradeDateEpochUtc': 1337347800, 'timeZoneFullName': 'America/New_York', 'timeZoneShortName': 'EDT', 'uuid': 'e59f1c4f-b1aa-3d70-a8c3-eb59ff3e461b', 'messageBoardId': 'finmb_20765463', 'gmtOffSetMilliseconds': -14400000, 'currentPrice': 478.22, 'targetHighPrice': 548.43, 'targetLowPrice': 240.46, 'targetMeanPrice': 474.43, 'targetMedianPrice': 480.92, 'recommendationMean': 1.8, 'recommendationKey': 'buy', 'numberOfAnalystOpinions': 52, 'totalCash': 58119999488, 'totalCashPerShare': 22.913, 'ebitda': 68446998528, 'totalDebt': 37632999424, 'quickRatio': 2.546, 'currentRatio': 2.681, 'totalRevenue': 142711996416, 'debtToEquity': 25.168, 'revenuePerShare': 55.671, 'returnOnAssets': 0.17312999, 'returnOnEquity': 0.33361, 'freeCashflow': 35132125184, 'operatingCashflow': 76360998912, 'earningsGrowth': 1.141, 'revenueGrowth': 0.273, 'grossMargins': 0.81496, 'ebitdaMargins': 0.47962, 'operatingMargins': 0.38579, 'financialCurrency': 'USD', 'trailingPegRatio': 1.1055}\n"
     ]
    }
   ],
   "source": [
    "GetFacebookInformation = yf.Ticker(\"META\")\n",
    "\n",
    "print(GetFacebookInformation.info)\n"
   ]
  },
  {
   "cell_type": "code",
   "execution_count": 3,
   "metadata": {},
   "outputs": [
    {
     "data": {
      "text/plain": [
       "Date\n",
       "2019-05-28 00:00:00-04:00    181.347586\n",
       "2019-05-29 00:00:00-04:00    183.305512\n",
       "2019-05-30 00:00:00-04:00    182.885958\n",
       "2019-05-31 00:00:00-04:00    180.088925\n",
       "2019-06-03 00:00:00-04:00    174.814519\n",
       "                                ...    \n",
       "2024-05-20 00:00:00-04:00    469.950012\n",
       "2024-05-21 00:00:00-04:00    467.119995\n",
       "2024-05-22 00:00:00-04:00    467.869995\n",
       "2024-05-23 00:00:00-04:00    472.880005\n",
       "2024-05-24 00:00:00-04:00    467.619995\n",
       "Name: Open, Length: 1259, dtype: float64"
      ]
     },
     "execution_count": 3,
     "metadata": {},
     "output_type": "execute_result"
    }
   ],
   "source": [
    "# Let us  get historical stock prices for Facebook \n",
    "# covering the past few years.\n",
    "# max->maximum number of daily prices available \n",
    "# for Facebook.\n",
    "# Valid options are 1d, 5d, 1mo, 3mo, 6mo, 1y, 2y, \n",
    "# 5y, 10y and ytd.\n",
    "GetFacebookInformation.history(period=\"5y\")['Open']\n"
   ]
  },
  {
   "cell_type": "code",
   "execution_count": 5,
   "metadata": {},
   "outputs": [
    {
     "data": {
      "text/html": [
       "<div>\n",
       "<style scoped>\n",
       "    .dataframe tbody tr th:only-of-type {\n",
       "        vertical-align: middle;\n",
       "    }\n",
       "\n",
       "    .dataframe tbody tr th {\n",
       "        vertical-align: top;\n",
       "    }\n",
       "\n",
       "    .dataframe thead th {\n",
       "        text-align: right;\n",
       "    }\n",
       "</style>\n",
       "<table border=\"1\" class=\"dataframe\">\n",
       "  <thead>\n",
       "    <tr style=\"text-align: right;\">\n",
       "      <th></th>\n",
       "      <th>Open</th>\n",
       "      <th>High</th>\n",
       "      <th>Low</th>\n",
       "      <th>Close</th>\n",
       "      <th>Volume</th>\n",
       "      <th>Dividends</th>\n",
       "      <th>Stock Splits</th>\n",
       "    </tr>\n",
       "    <tr>\n",
       "      <th>Date</th>\n",
       "      <th></th>\n",
       "      <th></th>\n",
       "      <th></th>\n",
       "      <th></th>\n",
       "      <th></th>\n",
       "      <th></th>\n",
       "      <th></th>\n",
       "    </tr>\n",
       "  </thead>\n",
       "  <tbody>\n",
       "    <tr>\n",
       "      <th>2019-05-28 00:00:00-04:00</th>\n",
       "      <td>181.347586</td>\n",
       "      <td>184.514240</td>\n",
       "      <td>181.257685</td>\n",
       "      <td>184.114655</td>\n",
       "      <td>14843300</td>\n",
       "      <td>0.0</td>\n",
       "      <td>0.0</td>\n",
       "    </tr>\n",
       "    <tr>\n",
       "      <th>2019-05-29 00:00:00-04:00</th>\n",
       "      <td>183.305512</td>\n",
       "      <td>184.364386</td>\n",
       "      <td>181.157796</td>\n",
       "      <td>181.996902</td>\n",
       "      <td>12797700</td>\n",
       "      <td>0.0</td>\n",
       "      <td>0.0</td>\n",
       "    </tr>\n",
       "    <tr>\n",
       "      <th>2019-05-30 00:00:00-04:00</th>\n",
       "      <td>182.885958</td>\n",
       "      <td>183.285528</td>\n",
       "      <td>180.698277</td>\n",
       "      <td>182.816025</td>\n",
       "      <td>8581500</td>\n",
       "      <td>0.0</td>\n",
       "      <td>0.0</td>\n",
       "    </tr>\n",
       "    <tr>\n",
       "      <th>2019-05-31 00:00:00-04:00</th>\n",
       "      <td>180.088925</td>\n",
       "      <td>180.348644</td>\n",
       "      <td>176.972237</td>\n",
       "      <td>177.281906</td>\n",
       "      <td>15226500</td>\n",
       "      <td>0.0</td>\n",
       "      <td>0.0</td>\n",
       "    </tr>\n",
       "    <tr>\n",
       "      <th>2019-06-03 00:00:00-04:00</th>\n",
       "      <td>174.814519</td>\n",
       "      <td>174.864470</td>\n",
       "      <td>160.839342</td>\n",
       "      <td>163.976013</td>\n",
       "      <td>56059600</td>\n",
       "      <td>0.0</td>\n",
       "      <td>0.0</td>\n",
       "    </tr>\n",
       "    <tr>\n",
       "      <th>...</th>\n",
       "      <td>...</td>\n",
       "      <td>...</td>\n",
       "      <td>...</td>\n",
       "      <td>...</td>\n",
       "      <td>...</td>\n",
       "      <td>...</td>\n",
       "      <td>...</td>\n",
       "    </tr>\n",
       "    <tr>\n",
       "      <th>2024-05-20 00:00:00-04:00</th>\n",
       "      <td>469.950012</td>\n",
       "      <td>473.200012</td>\n",
       "      <td>467.040009</td>\n",
       "      <td>468.839996</td>\n",
       "      <td>11745100</td>\n",
       "      <td>0.0</td>\n",
       "      <td>0.0</td>\n",
       "    </tr>\n",
       "    <tr>\n",
       "      <th>2024-05-21 00:00:00-04:00</th>\n",
       "      <td>467.119995</td>\n",
       "      <td>470.700012</td>\n",
       "      <td>462.269989</td>\n",
       "      <td>464.630005</td>\n",
       "      <td>11742200</td>\n",
       "      <td>0.0</td>\n",
       "      <td>0.0</td>\n",
       "    </tr>\n",
       "    <tr>\n",
       "      <th>2024-05-22 00:00:00-04:00</th>\n",
       "      <td>467.869995</td>\n",
       "      <td>473.720001</td>\n",
       "      <td>465.649994</td>\n",
       "      <td>467.779999</td>\n",
       "      <td>10078600</td>\n",
       "      <td>0.0</td>\n",
       "      <td>0.0</td>\n",
       "    </tr>\n",
       "    <tr>\n",
       "      <th>2024-05-23 00:00:00-04:00</th>\n",
       "      <td>472.880005</td>\n",
       "      <td>474.359985</td>\n",
       "      <td>461.540009</td>\n",
       "      <td>465.779999</td>\n",
       "      <td>11747900</td>\n",
       "      <td>0.0</td>\n",
       "      <td>0.0</td>\n",
       "    </tr>\n",
       "    <tr>\n",
       "      <th>2024-05-24 00:00:00-04:00</th>\n",
       "      <td>467.619995</td>\n",
       "      <td>479.850006</td>\n",
       "      <td>466.299988</td>\n",
       "      <td>478.220001</td>\n",
       "      <td>12012300</td>\n",
       "      <td>0.0</td>\n",
       "      <td>0.0</td>\n",
       "    </tr>\n",
       "  </tbody>\n",
       "</table>\n",
       "<p>1259 rows × 7 columns</p>\n",
       "</div>"
      ],
      "text/plain": [
       "                                 Open        High         Low       Close  \\\n",
       "Date                                                                        \n",
       "2019-05-28 00:00:00-04:00  181.347586  184.514240  181.257685  184.114655   \n",
       "2019-05-29 00:00:00-04:00  183.305512  184.364386  181.157796  181.996902   \n",
       "2019-05-30 00:00:00-04:00  182.885958  183.285528  180.698277  182.816025   \n",
       "2019-05-31 00:00:00-04:00  180.088925  180.348644  176.972237  177.281906   \n",
       "2019-06-03 00:00:00-04:00  174.814519  174.864470  160.839342  163.976013   \n",
       "...                               ...         ...         ...         ...   \n",
       "2024-05-20 00:00:00-04:00  469.950012  473.200012  467.040009  468.839996   \n",
       "2024-05-21 00:00:00-04:00  467.119995  470.700012  462.269989  464.630005   \n",
       "2024-05-22 00:00:00-04:00  467.869995  473.720001  465.649994  467.779999   \n",
       "2024-05-23 00:00:00-04:00  472.880005  474.359985  461.540009  465.779999   \n",
       "2024-05-24 00:00:00-04:00  467.619995  479.850006  466.299988  478.220001   \n",
       "\n",
       "                             Volume  Dividends  Stock Splits  \n",
       "Date                                                          \n",
       "2019-05-28 00:00:00-04:00  14843300        0.0           0.0  \n",
       "2019-05-29 00:00:00-04:00  12797700        0.0           0.0  \n",
       "2019-05-30 00:00:00-04:00   8581500        0.0           0.0  \n",
       "2019-05-31 00:00:00-04:00  15226500        0.0           0.0  \n",
       "2019-06-03 00:00:00-04:00  56059600        0.0           0.0  \n",
       "...                             ...        ...           ...  \n",
       "2024-05-20 00:00:00-04:00  11745100        0.0           0.0  \n",
       "2024-05-21 00:00:00-04:00  11742200        0.0           0.0  \n",
       "2024-05-22 00:00:00-04:00  10078600        0.0           0.0  \n",
       "2024-05-23 00:00:00-04:00  11747900        0.0           0.0  \n",
       "2024-05-24 00:00:00-04:00  12012300        0.0           0.0  \n",
       "\n",
       "[1259 rows x 7 columns]"
      ]
     },
     "execution_count": 5,
     "metadata": {},
     "output_type": "execute_result"
    }
   ],
   "source": [
    "# Let us  get historical stock prices for Facebook \n",
    "# covering the past few years.\n",
    "# max->maximum number of daily prices available \n",
    "# for Facebook.\n",
    "# Valid options are 1d, 5d, 1mo, 3mo, 6mo, 1y, 2y, \n",
    "# 5y,\n",
    "# 10y and ytd.\n",
    "data =  GetFacebookInformation.history(period=\"5y\")\n",
    "vectors = data[['Open', 'Close', 'High', 'Low']].values.tolist()\n",
    "# print(len(vectors))\n",
    "vectors.pop()\n",
    "# Hiển thị 5 vector đầu tiên\n",
    "# num_vectors = len(vectors)\n",
    "# print(num_vectors)\n",
    "len(vectors)\n",
    "data"
   ]
  },
  {
   "cell_type": "code",
   "execution_count": 8,
   "metadata": {},
   "outputs": [
    {
     "data": {
      "text/plain": [
       "1258"
      ]
     },
     "execution_count": 8,
     "metadata": {},
     "output_type": "execute_result"
    }
   ],
   "source": [
    "y_vectors = data[['Open', 'Close', 'High', 'Low']].values.tolist()\n",
    "y_values = [sum(y_vector) / 4 for y_vector in y_vectors]\n",
    "\n",
    "# Hiển thị danh sách các giá trị y\n",
    "# num_y = len(y_values)\n",
    "# print(num_y)\n",
    "y_values.pop(0)\n",
    "# num_y = len(y_values)\n",
    "# print(num_y)\n",
    "len(y_values)"
   ]
  },
  {
   "cell_type": "markdown",
   "metadata": {},
   "source": [
    "# BASIC FUNCTIONS FOR ALGEBRA CALCULATION"
   ]
  },
  {
   "cell_type": "code",
   "execution_count": 9,
   "metadata": {},
   "outputs": [],
   "source": [
    "from typing import List # định nghĩa vector\n",
    "Vector = List[float]"
   ]
  },
  {
   "cell_type": "code",
   "execution_count": 10,
   "metadata": {},
   "outputs": [],
   "source": [
    "def dot(v: Vector,w: Vector): # hàm tính tích vô hướng\n",
    "    return sum(v_i * w_i  for v_i, w_i in zip(v,w))"
   ]
  },
  {
   "cell_type": "code",
   "execution_count": 11,
   "metadata": {},
   "outputs": [],
   "source": [
    "def dot(v, w) -> float:\n",
    "    return sum(v_i * w_i for v_i, w_i in zip(v, w))\n",
    "# them convert thanh float"
   ]
  },
  {
   "cell_type": "code",
   "execution_count": 12,
   "metadata": {},
   "outputs": [],
   "source": [
    "def predict(x: Vector, beta: Vector) -> float: # định nghĩa hàm dự đoán\n",
    "    return dot(x,beta)"
   ]
  },
  {
   "cell_type": "code",
   "execution_count": 13,
   "metadata": {},
   "outputs": [],
   "source": [
    "\n",
    "def vector_sum(vectors: List[Vector]) -> Vector:    # sửa lại để k bị TypeError\n",
    "    assert vectors, \"No vectors provided!\"\n",
    "    num_elements = len(vectors[0])\n",
    "    assert all(len(v) == num_elements for v in vectors), \"different sizes!\"\n",
    "    return [sum(vector[i] for vector in vectors) for i in range(num_elements)]\n",
    "    "
   ]
  },
  {
   "cell_type": "code",
   "execution_count": 14,
   "metadata": {},
   "outputs": [],
   "source": [
    "def scalar_multiply(c: float, v:Vector) ->Vector:\n",
    "    return [c *v_i for v_i in v]"
   ]
  },
  {
   "cell_type": "code",
   "execution_count": 15,
   "metadata": {},
   "outputs": [],
   "source": [
    "def vector_mean(vectors: List[Vector]) -> Vector:\n",
    "    n = len(vectors)\n",
    "    return scalar_multiply(1/n, vector_sum(vectors))"
   ]
  },
  {
   "cell_type": "markdown",
   "metadata": {},
   "source": [
    "# FUNCTION FOR CALCULATING GRADIENT DESCENT"
   ]
  },
  {
   "cell_type": "code",
   "execution_count": 17,
   "metadata": {},
   "outputs": [],
   "source": [
    "def error(x: Vector, y:float, beta: Vector) ->float:  #hàm tính sai số\n",
    "    return predict(x,beta) -y"
   ]
  },
  {
   "cell_type": "code",
   "execution_count": 18,
   "metadata": {},
   "outputs": [],
   "source": [
    "def squared_error(x:Vector, y: float, beta: Vector) -> float: # hàm tính bình phương sai số\n",
    "    return error(x,y,beta) **2"
   ]
  },
  {
   "cell_type": "code",
   "execution_count": 19,
   "metadata": {},
   "outputs": [],
   "source": [
    "def sqerror_gradient(x: Vector, y: float, beta:Vector) -> Vector:\n",
    "    err = error(x,y,beta)\n",
    "    return [2*err*x_i for x_i in x]"
   ]
  },
  {
   "cell_type": "code",
   "execution_count": 20,
   "metadata": {},
   "outputs": [],
   "source": [
    "from typing import List, Callable\n",
    "# tính toán gradient step"
   ]
  },
  {
   "cell_type": "code",
   "execution_count": 21,
   "metadata": {},
   "outputs": [],
   "source": [
    "def gradient_step(v: Vector, gradient: Vector, step_size: float) -> Vector:\n",
    "    return [v_i - step_size * gradient_i for v_i, gradient_i in zip(v, gradient)]\n",
    "# gradient step thay the, sửa cộng thành trừ"
   ]
  },
  {
   "cell_type": "code",
   "execution_count": 22,
   "metadata": {},
   "outputs": [],
   "source": [
    "def least_squares_fit(xs: List[Vector], ys: List[float], learning_rate: float = 0.00000001, num_steps: int = 10000, batch_size: int = 1) -> Vector:\n",
    "    guess = [0.0] * len(xs[0])\n",
    "    for _ in range(num_steps):\n",
    "        for start in range(0, len(xs), batch_size):\n",
    "            batch_xs = xs[start:start + batch_size]\n",
    "            batch_ys = ys[start:start + batch_size]\n",
    "            gradient = vector_mean([sqerror_gradient(x, y, guess) for x, y in zip(batch_xs, batch_ys)])\n",
    "            guess = gradient_step(guess, gradient, learning_rate)\n",
    "    return guess\n",
    "\n",
    "#least-square thay the, khong dung ttdm"
   ]
  },
  {
   "cell_type": "code",
   "execution_count": 33,
   "metadata": {},
   "outputs": [
    {
     "name": "stdout",
     "output_type": "stream",
     "text": [
      "Nghiệm tìm được bằng least_squares_fit: [0.250000000000139, 0.25000000000015427, 0.2499999999997742, 0.24999999999993708]\n"
     ]
    }
   ],
   "source": [
    "learning_rate = 0.000001\n",
    "beta = least_squares_fit(vectors, y_values, learning_rate, 10000, 1)\n",
    "print(\"Nghiệm tìm được bằng least_squares_fit:\", beta)\n",
    "\n",
    "# Thay learning rate từ 0.00000001 sang 0.000001"
   ]
  },
  {
   "cell_type": "code",
   "execution_count": 34,
   "metadata": {},
   "outputs": [
    {
     "name": "stdout",
     "output_type": "stream",
     "text": [
      "Hệ số của các biến: [0.25 0.25 0.25 0.25]\n"
     ]
    }
   ],
   "source": [
    "from sklearn.linear_model import LinearRegression\n",
    "model = LinearRegression()\n",
    "model.fit(vectors, y_values)\n",
    "print(\"Hệ số của các biến:\", model.coef_)"
   ]
  },
  {
   "cell_type": "markdown",
   "metadata": {},
   "source": [
    "# Đây là sử dụng model của sklearn để predict"
   ]
  },
  {
   "cell_type": "code",
   "execution_count": 35,
   "metadata": {},
   "outputs": [
    {
     "name": "stdout",
     "output_type": "stream",
     "text": [
      "Giá cổ phiếu dự đoán cho ngày tiếp theo: 472.9974975585937\n"
     ]
    }
   ],
   "source": [
    "# Dự đoán giá cổ phiếu cho ngày tiếp theo (giả sử sử dụng giá của ngày hiện tại)\n",
    "def predict_next_day_price(model, last_day_data):\n",
    "    next_day_prediction = model.predict([last_day_data])\n",
    "    return next_day_prediction[0]\n",
    "\n",
    "# Lấy dữ liệu của ngày cuối cùng để dự đoán ngày tiếp theo\n",
    "last_day_data = vectors[-1]\n",
    "predicted_price = predict_next_day_price(model, last_day_data)\n",
    "print(\"Giá cổ phiếu dự đoán cho ngày tiếp theo:\", predicted_price)"
   ]
  },
  {
   "cell_type": "markdown",
   "metadata": {},
   "source": [
    "# Đây là sử dụng model tự train predict, kết quả sát nhau "
   ]
  },
  {
   "cell_type": "code",
   "execution_count": 36,
   "metadata": {},
   "outputs": [
    {
     "data": {
      "text/plain": [
       "472.99749755859483"
      ]
     },
     "execution_count": 36,
     "metadata": {},
     "output_type": "execute_result"
    }
   ],
   "source": [
    "y = dot(vectors[-1], beta)\n",
    "y"
   ]
  },
  {
   "cell_type": "code",
   "execution_count": 28,
   "metadata": {},
   "outputs": [],
   "source": [
    "GetFacebookInformation = yf.Ticker(\"META\")\n",
    "data = GetFacebookInformation.history(period=\"5y\")\n",
    "vectors = data[['Open', 'Close', 'High', 'Low']].values.tolist()\n",
    "y_values = [sum(vector) / 4 for vector in vectors]"
   ]
  },
  {
   "cell_type": "code",
   "execution_count": 29,
   "metadata": {},
   "outputs": [
    {
     "ename": "ValueError",
     "evalue": "x and y must have same first dimension, but have shapes (1,) and (2,)",
     "output_type": "error",
     "traceback": [
      "\u001b[1;31m---------------------------------------------------------------------------\u001b[0m",
      "\u001b[1;31mValueError\u001b[0m                                Traceback (most recent call last)",
      "Cell \u001b[1;32mIn[29], line 11\u001b[0m\n\u001b[0;32m      9\u001b[0m future_dates \u001b[38;5;241m=\u001b[39m pd\u001b[38;5;241m.\u001b[39mdate_range(start\u001b[38;5;241m=\u001b[39mdata\u001b[38;5;241m.\u001b[39mindex[\u001b[38;5;241m-\u001b[39m\u001b[38;5;241m1\u001b[39m], periods\u001b[38;5;241m=\u001b[39m\u001b[38;5;241m2\u001b[39m, inclusive\u001b[38;5;241m=\u001b[39m\u001b[38;5;124m'\u001b[39m\u001b[38;5;124mright\u001b[39m\u001b[38;5;124m'\u001b[39m)\n\u001b[0;32m     10\u001b[0m predicted_prices \u001b[38;5;241m=\u001b[39m np\u001b[38;5;241m.\u001b[39mappend(y_values, predicted_price)\n\u001b[1;32m---> 11\u001b[0m \u001b[43mplt\u001b[49m\u001b[38;5;241;43m.\u001b[39;49m\u001b[43mplot\u001b[49m\u001b[43m(\u001b[49m\u001b[43mfuture_dates\u001b[49m\u001b[43m,\u001b[49m\u001b[43m \u001b[49m\u001b[43mpredicted_prices\u001b[49m\u001b[43m[\u001b[49m\u001b[38;5;241;43m-\u001b[39;49m\u001b[38;5;241;43m2\u001b[39;49m\u001b[43m:\u001b[49m\u001b[43m]\u001b[49m\u001b[43m,\u001b[49m\u001b[43m \u001b[49m\u001b[38;5;124;43m'\u001b[39;49m\u001b[38;5;124;43mro-\u001b[39;49m\u001b[38;5;124;43m'\u001b[39;49m\u001b[43m,\u001b[49m\u001b[43m \u001b[49m\u001b[43mlabel\u001b[49m\u001b[38;5;241;43m=\u001b[39;49m\u001b[38;5;124;43m\"\u001b[39;49m\u001b[38;5;124;43mGiá dự đoán\u001b[39;49m\u001b[38;5;124;43m\"\u001b[39;49m\u001b[43m)\u001b[49m\n\u001b[0;32m     13\u001b[0m plt\u001b[38;5;241m.\u001b[39mxlabel(\u001b[38;5;124m'\u001b[39m\u001b[38;5;124mNgày\u001b[39m\u001b[38;5;124m'\u001b[39m)\n\u001b[0;32m     14\u001b[0m plt\u001b[38;5;241m.\u001b[39mylabel(\u001b[38;5;124m'\u001b[39m\u001b[38;5;124mGiá cổ phiếu\u001b[39m\u001b[38;5;124m'\u001b[39m)\n",
      "File \u001b[1;32mc:\\Users\\Nitro Tiger\\AppData\\Local\\Programs\\Python\\Python312\\Lib\\site-packages\\matplotlib\\pyplot.py:3590\u001b[0m, in \u001b[0;36mplot\u001b[1;34m(scalex, scaley, data, *args, **kwargs)\u001b[0m\n\u001b[0;32m   3582\u001b[0m \u001b[38;5;129m@_copy_docstring_and_deprecators\u001b[39m(Axes\u001b[38;5;241m.\u001b[39mplot)\n\u001b[0;32m   3583\u001b[0m \u001b[38;5;28;01mdef\u001b[39;00m \u001b[38;5;21mplot\u001b[39m(\n\u001b[0;32m   3584\u001b[0m     \u001b[38;5;241m*\u001b[39margs: \u001b[38;5;28mfloat\u001b[39m \u001b[38;5;241m|\u001b[39m ArrayLike \u001b[38;5;241m|\u001b[39m \u001b[38;5;28mstr\u001b[39m,\n\u001b[1;32m   (...)\u001b[0m\n\u001b[0;32m   3588\u001b[0m     \u001b[38;5;241m*\u001b[39m\u001b[38;5;241m*\u001b[39mkwargs,\n\u001b[0;32m   3589\u001b[0m ) \u001b[38;5;241m-\u001b[39m\u001b[38;5;241m>\u001b[39m \u001b[38;5;28mlist\u001b[39m[Line2D]:\n\u001b[1;32m-> 3590\u001b[0m     \u001b[38;5;28;01mreturn\u001b[39;00m \u001b[43mgca\u001b[49m\u001b[43m(\u001b[49m\u001b[43m)\u001b[49m\u001b[38;5;241;43m.\u001b[39;49m\u001b[43mplot\u001b[49m\u001b[43m(\u001b[49m\n\u001b[0;32m   3591\u001b[0m \u001b[43m        \u001b[49m\u001b[38;5;241;43m*\u001b[39;49m\u001b[43margs\u001b[49m\u001b[43m,\u001b[49m\n\u001b[0;32m   3592\u001b[0m \u001b[43m        \u001b[49m\u001b[43mscalex\u001b[49m\u001b[38;5;241;43m=\u001b[39;49m\u001b[43mscalex\u001b[49m\u001b[43m,\u001b[49m\n\u001b[0;32m   3593\u001b[0m \u001b[43m        \u001b[49m\u001b[43mscaley\u001b[49m\u001b[38;5;241;43m=\u001b[39;49m\u001b[43mscaley\u001b[49m\u001b[43m,\u001b[49m\n\u001b[0;32m   3594\u001b[0m \u001b[43m        \u001b[49m\u001b[38;5;241;43m*\u001b[39;49m\u001b[38;5;241;43m*\u001b[39;49m\u001b[43m(\u001b[49m\u001b[43m{\u001b[49m\u001b[38;5;124;43m\"\u001b[39;49m\u001b[38;5;124;43mdata\u001b[39;49m\u001b[38;5;124;43m\"\u001b[39;49m\u001b[43m:\u001b[49m\u001b[43m \u001b[49m\u001b[43mdata\u001b[49m\u001b[43m}\u001b[49m\u001b[43m \u001b[49m\u001b[38;5;28;43;01mif\u001b[39;49;00m\u001b[43m \u001b[49m\u001b[43mdata\u001b[49m\u001b[43m \u001b[49m\u001b[38;5;129;43;01mis\u001b[39;49;00m\u001b[43m \u001b[49m\u001b[38;5;129;43;01mnot\u001b[39;49;00m\u001b[43m \u001b[49m\u001b[38;5;28;43;01mNone\u001b[39;49;00m\u001b[43m \u001b[49m\u001b[38;5;28;43;01melse\u001b[39;49;00m\u001b[43m \u001b[49m\u001b[43m{\u001b[49m\u001b[43m}\u001b[49m\u001b[43m)\u001b[49m\u001b[43m,\u001b[49m\n\u001b[0;32m   3595\u001b[0m \u001b[43m        \u001b[49m\u001b[38;5;241;43m*\u001b[39;49m\u001b[38;5;241;43m*\u001b[39;49m\u001b[43mkwargs\u001b[49m\u001b[43m,\u001b[49m\n\u001b[0;32m   3596\u001b[0m \u001b[43m    \u001b[49m\u001b[43m)\u001b[49m\n",
      "File \u001b[1;32mc:\\Users\\Nitro Tiger\\AppData\\Local\\Programs\\Python\\Python312\\Lib\\site-packages\\matplotlib\\axes\\_axes.py:1724\u001b[0m, in \u001b[0;36mAxes.plot\u001b[1;34m(self, scalex, scaley, data, *args, **kwargs)\u001b[0m\n\u001b[0;32m   1481\u001b[0m \u001b[38;5;250m\u001b[39m\u001b[38;5;124;03m\"\"\"\u001b[39;00m\n\u001b[0;32m   1482\u001b[0m \u001b[38;5;124;03mPlot y versus x as lines and/or markers.\u001b[39;00m\n\u001b[0;32m   1483\u001b[0m \n\u001b[1;32m   (...)\u001b[0m\n\u001b[0;32m   1721\u001b[0m \u001b[38;5;124;03m(``'green'``) or hex strings (``'#008000'``).\u001b[39;00m\n\u001b[0;32m   1722\u001b[0m \u001b[38;5;124;03m\"\"\"\u001b[39;00m\n\u001b[0;32m   1723\u001b[0m kwargs \u001b[38;5;241m=\u001b[39m cbook\u001b[38;5;241m.\u001b[39mnormalize_kwargs(kwargs, mlines\u001b[38;5;241m.\u001b[39mLine2D)\n\u001b[1;32m-> 1724\u001b[0m lines \u001b[38;5;241m=\u001b[39m [\u001b[38;5;241m*\u001b[39m\u001b[38;5;28mself\u001b[39m\u001b[38;5;241m.\u001b[39m_get_lines(\u001b[38;5;28mself\u001b[39m, \u001b[38;5;241m*\u001b[39margs, data\u001b[38;5;241m=\u001b[39mdata, \u001b[38;5;241m*\u001b[39m\u001b[38;5;241m*\u001b[39mkwargs)]\n\u001b[0;32m   1725\u001b[0m \u001b[38;5;28;01mfor\u001b[39;00m line \u001b[38;5;129;01min\u001b[39;00m lines:\n\u001b[0;32m   1726\u001b[0m     \u001b[38;5;28mself\u001b[39m\u001b[38;5;241m.\u001b[39madd_line(line)\n",
      "File \u001b[1;32mc:\\Users\\Nitro Tiger\\AppData\\Local\\Programs\\Python\\Python312\\Lib\\site-packages\\matplotlib\\axes\\_base.py:303\u001b[0m, in \u001b[0;36m_process_plot_var_args.__call__\u001b[1;34m(self, axes, data, *args, **kwargs)\u001b[0m\n\u001b[0;32m    301\u001b[0m     this \u001b[38;5;241m+\u001b[39m\u001b[38;5;241m=\u001b[39m args[\u001b[38;5;241m0\u001b[39m],\n\u001b[0;32m    302\u001b[0m     args \u001b[38;5;241m=\u001b[39m args[\u001b[38;5;241m1\u001b[39m:]\n\u001b[1;32m--> 303\u001b[0m \u001b[38;5;28;01myield from\u001b[39;00m \u001b[38;5;28;43mself\u001b[39;49m\u001b[38;5;241;43m.\u001b[39;49m\u001b[43m_plot_args\u001b[49m\u001b[43m(\u001b[49m\n\u001b[0;32m    304\u001b[0m \u001b[43m    \u001b[49m\u001b[43maxes\u001b[49m\u001b[43m,\u001b[49m\u001b[43m \u001b[49m\u001b[43mthis\u001b[49m\u001b[43m,\u001b[49m\u001b[43m \u001b[49m\u001b[43mkwargs\u001b[49m\u001b[43m,\u001b[49m\u001b[43m \u001b[49m\u001b[43mambiguous_fmt_datakey\u001b[49m\u001b[38;5;241;43m=\u001b[39;49m\u001b[43mambiguous_fmt_datakey\u001b[49m\u001b[43m)\u001b[49m\n",
      "File \u001b[1;32mc:\\Users\\Nitro Tiger\\AppData\\Local\\Programs\\Python\\Python312\\Lib\\site-packages\\matplotlib\\axes\\_base.py:499\u001b[0m, in \u001b[0;36m_process_plot_var_args._plot_args\u001b[1;34m(self, axes, tup, kwargs, return_kwargs, ambiguous_fmt_datakey)\u001b[0m\n\u001b[0;32m    496\u001b[0m     axes\u001b[38;5;241m.\u001b[39myaxis\u001b[38;5;241m.\u001b[39mupdate_units(y)\n\u001b[0;32m    498\u001b[0m \u001b[38;5;28;01mif\u001b[39;00m x\u001b[38;5;241m.\u001b[39mshape[\u001b[38;5;241m0\u001b[39m] \u001b[38;5;241m!=\u001b[39m y\u001b[38;5;241m.\u001b[39mshape[\u001b[38;5;241m0\u001b[39m]:\n\u001b[1;32m--> 499\u001b[0m     \u001b[38;5;28;01mraise\u001b[39;00m \u001b[38;5;167;01mValueError\u001b[39;00m(\u001b[38;5;124mf\u001b[39m\u001b[38;5;124m\"\u001b[39m\u001b[38;5;124mx and y must have same first dimension, but \u001b[39m\u001b[38;5;124m\"\u001b[39m\n\u001b[0;32m    500\u001b[0m                      \u001b[38;5;124mf\u001b[39m\u001b[38;5;124m\"\u001b[39m\u001b[38;5;124mhave shapes \u001b[39m\u001b[38;5;132;01m{\u001b[39;00mx\u001b[38;5;241m.\u001b[39mshape\u001b[38;5;132;01m}\u001b[39;00m\u001b[38;5;124m and \u001b[39m\u001b[38;5;132;01m{\u001b[39;00my\u001b[38;5;241m.\u001b[39mshape\u001b[38;5;132;01m}\u001b[39;00m\u001b[38;5;124m\"\u001b[39m)\n\u001b[0;32m    501\u001b[0m \u001b[38;5;28;01mif\u001b[39;00m x\u001b[38;5;241m.\u001b[39mndim \u001b[38;5;241m>\u001b[39m \u001b[38;5;241m2\u001b[39m \u001b[38;5;129;01mor\u001b[39;00m y\u001b[38;5;241m.\u001b[39mndim \u001b[38;5;241m>\u001b[39m \u001b[38;5;241m2\u001b[39m:\n\u001b[0;32m    502\u001b[0m     \u001b[38;5;28;01mraise\u001b[39;00m \u001b[38;5;167;01mValueError\u001b[39;00m(\u001b[38;5;124mf\u001b[39m\u001b[38;5;124m\"\u001b[39m\u001b[38;5;124mx and y can be no greater than 2D, but have \u001b[39m\u001b[38;5;124m\"\u001b[39m\n\u001b[0;32m    503\u001b[0m                      \u001b[38;5;124mf\u001b[39m\u001b[38;5;124m\"\u001b[39m\u001b[38;5;124mshapes \u001b[39m\u001b[38;5;132;01m{\u001b[39;00mx\u001b[38;5;241m.\u001b[39mshape\u001b[38;5;132;01m}\u001b[39;00m\u001b[38;5;124m and \u001b[39m\u001b[38;5;132;01m{\u001b[39;00my\u001b[38;5;241m.\u001b[39mshape\u001b[38;5;132;01m}\u001b[39;00m\u001b[38;5;124m\"\u001b[39m)\n",
      "\u001b[1;31mValueError\u001b[0m: x and y must have same first dimension, but have shapes (1,) and (2,)"
     ]
    },
    {
     "data": {
      "image/png": "[encoded data removed]",
      "text/plain": [
       "<Figure size 640x480 with 1 Axes>"
      ]
     },
     "metadata": {},
     "output_type": "display_data"
    }
   ],
   "source": [
    "# Hiển thị dữ liệu và dự đoán\n",
    "# Vẽ biểu đồ giá cổ phiếu thực tế\n",
    "import matplotlib.pyplot as plt\n",
    "\n",
    "\n",
    "plt.plot(data.index, y_values, label=\"Giá thực tế\")\n",
    "\n",
    "# Thêm dự đoán vào biểu đồ (dự đoán ngày tiếp theo)\n",
    "future_dates = pd.date_range(start=data.index[-1], periods=2, inclusive='right')\n",
    "predicted_prices = np.append(y_values, predicted_price)\n",
    "plt.plot(future_dates, predicted_prices[-2:], 'ro-', label=\"Giá dự đoán\")\n",
    "\n",
    "plt.xlabel('Ngày')\n",
    "plt.ylabel('Giá cổ phiếu')\n",
    "plt.title('Dự đoán giá cổ phiếu META')\n",
    "plt.legend()\n",
    "plt.show()"
   ]
  },
  {
   "cell_type": "markdown",
   "metadata": {},
   "source": [
    "# Evaluation Matrix"
   ]
  },
  {
   "cell_type": "code",
   "execution_count": null,
   "metadata": {},
   "outputs": [],
   "source": []
  }
 ],
 "metadata": {
  "kernelspec": {
   "display_name": "Python 3",
   "language": "python",
   "name": "python3"
  },
  "language_info": {
   "codemirror_mode": {
    "name": "ipython",
    "version": 3
   },
   "file_extension": ".py",
   "mimetype": "text/x-python",
   "name": "python",
   "nbconvert_exporter": "python",
   "pygments_lexer": "ipython3",
   "version": "3.12.2"
  }
 },
 "nbformat": 4,
 "nbformat_minor": 2
}
