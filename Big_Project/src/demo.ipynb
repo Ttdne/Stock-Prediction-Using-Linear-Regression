{
 "cells": [
  {
   "cell_type": "code",
   "execution_count": 27,
   "metadata": {},
   "outputs": [],
   "source": [
    "import yfinance as yf\n",
    "import pandas as pd\n",
    "import numpy as np\n",
    "import matplotlib.pyplot as plt\n",
    "from sklearn.linear_model import LinearRegression\n",
    "from sklearn.metrics import mean_squared_error"
   ]
  },
  {
   "cell_type": "markdown",
   "metadata": {},
   "source": []
  },
  {
   "cell_type": "code",
   "execution_count": 28,
   "metadata": {},
   "outputs": [
    {
     "name": "stderr",
     "output_type": "stream",
     "text": [
      "[*********************100%%**********************]  1 of 1 completed"
     ]
    },
    {
     "name": "stdout",
     "output_type": "stream",
     "text": [
      "Open      0\n",
      "High      0\n",
      "Low       0\n",
      "Close     0\n",
      "Volume    0\n",
      "Price     0\n",
      "dtype: int64\n",
      "Dữ liệu đã được lưu vào tệp AAPL_historical_data.csv\n",
      "                 Open       High        Low      Close     Volume      Price\n",
      "Date                                                                        \n",
      "2020-01-02  74.059998  75.150002  73.797501  75.087502  135480400  74.523750\n",
      "2020-01-03  74.287498  75.144997  74.125000  74.357498  146322800  74.478748\n",
      "2020-01-06  73.447502  74.989998  73.187500  74.949997  118387200  74.143749\n",
      "2020-01-07  74.959999  75.224998  74.370003  74.597504  108872000  74.788126\n",
      "2020-01-08  74.290001  76.110001  74.290001  75.797501  132079200  75.121876\n"
     ]
    },
    {
     "name": "stderr",
     "output_type": "stream",
     "text": [
      "\n",
      "C:\\Users\\admin\\AppData\\Local\\Temp\\ipykernel_21088\\2046439863.py:15: SettingWithCopyWarning: \n",
      "A value is trying to be set on a copy of a slice from a DataFrame\n",
      "\n",
      "See the caveats in the documentation: https://pandas.pydata.org/pandas-docs/stable/user_guide/indexing.html#returning-a-view-versus-a-copy\n",
      "  data.dropna(inplace=True)\n"
     ]
    }
   ],
   "source": [
    "# Tải dữ liệu lịch sử của cổ phiếu (ví dụ: 'AAPL' cho Apple)\n",
    "ticker = 'AAPL'\n",
    "data = yf.download(ticker, start=\"2020-01-01\", end=\"2023-01-01\")\n",
    "\n",
    "# Tính giá trung bình\n",
    "data['Price'] = data[['Open', 'Close', 'High', 'Low']].mean(axis=1)\n",
    "\n",
    "# Chọn các cột cần thiết\n",
    "data = data[['Open', 'High', 'Low', 'Close', 'Volume', 'Price']]\n",
    "\n",
    "# Kiểm tra giá trị bị thiếu\n",
    "print(data.isna().sum())\n",
    "\n",
    "# Xử lý giá trị bị thiếu (loại bỏ các hàng có giá trị bị thiếu)\n",
    "data.dropna(inplace=True)\n",
    "\n",
    "# Lưu dữ liệu vào tệp CSV\n",
    "csv_file = f'{ticker}_historical_data.csv'\n",
    "data.to_csv(csv_file)\n",
    "print(f\"Dữ liệu đã được lưu vào tệp {csv_file}\")\n",
    "\n",
    "# Đọc dữ liệu từ tệp CSV (Tuỳ chọn)\n",
    "data_from_csv = pd.read_csv(csv_file, index_col=0)\n",
    "print(data_from_csv.head())\n",
    "\n",
    "# Chuẩn bị dữ liệu cho mô hình\n",
    "prices = data_from_csv['Price'].values\n",
    "volumes = data_from_csv['Volume'].values\n",
    "\n",
    "# Căn chỉnh dữ liệu\n",
    "volumes = volumes[1:]  # Loại bỏ phần tử đầu tiên của volumes\n",
    "prices = prices[:-1]   # Loại bỏ phần tử cuối cùng của prices\n",
    "\n",
    "# Số lượng mẫu\n",
    "m = len(volumes)\n",
    "\n",
    "# Kiểm tra căn chỉnh dữ liệu\n",
    "assert len(volumes) == len(prices), \"Length mismatch between volumes and prices\""
   ]
  },
  {
   "cell_type": "code",
   "execution_count": 29,
   "metadata": {},
   "outputs": [],
   "source": [
    "def predict(alpha: float, beta: float, x_i: float) -> float:\n",
    "    return beta * x_i + alpha"
   ]
  },
  {
   "cell_type": "markdown",
   "metadata": {},
   "source": []
  },
  {
   "cell_type": "code",
   "execution_count": 30,
   "metadata": {},
   "outputs": [
    {
     "ename": "ModuleNotFoundError",
     "evalue": "No module named 'scratch.linear_algebra'",
     "output_type": "error",
     "traceback": [
      "\u001b[1;31m---------------------------------------------------------------------------\u001b[0m",
      "\u001b[1;31mModuleNotFoundError\u001b[0m                       Traceback (most recent call last)",
      "Cell \u001b[1;32mIn[30], line 4\u001b[0m\n\u001b[0;32m      1\u001b[0m \u001b[38;5;28;01mdef\u001b[39;00m \u001b[38;5;21merror\u001b[39m(alpha: \u001b[38;5;28mfloat\u001b[39m, beta: \u001b[38;5;28mfloat\u001b[39m, x_i: \u001b[38;5;28mfloat\u001b[39m, y_i: \u001b[38;5;28mfloat\u001b[39m) \u001b[38;5;241m-\u001b[39m\u001b[38;5;241m>\u001b[39m\u001b[38;5;28mfloat\u001b[39m:\n\u001b[0;32m      2\u001b[0m     \u001b[38;5;28;01mreturn\u001b[39;00m predict(alpha, beta, x_i) \u001b[38;5;241m-\u001b[39m y_i\n\u001b[1;32m----> 4\u001b[0m \u001b[38;5;28;01mfrom\u001b[39;00m \u001b[38;5;21;01mscratch\u001b[39;00m\u001b[38;5;21;01m.\u001b[39;00m\u001b[38;5;21;01mlinear_algebra\u001b[39;00m \u001b[38;5;28;01mimport\u001b[39;00m Vector\n\u001b[0;32m      6\u001b[0m \u001b[38;5;28;01mdef\u001b[39;00m \u001b[38;5;21msum_of_squerrors\u001b[39m(alpha: \u001b[38;5;28mfloat\u001b[39m, beta: \u001b[38;5;28mfloat\u001b[39m, x: Vector, y: Vector) \u001b[38;5;241m-\u001b[39m\u001b[38;5;241m>\u001b[39m \u001b[38;5;28mfloat\u001b[39m:\n\u001b[0;32m      7\u001b[0m     \u001b[38;5;28;01mreturn\u001b[39;00m \u001b[38;5;28msum\u001b[39m(error(alpha, beta, x_i, y_i) \u001b[38;5;241m*\u001b[39m\u001b[38;5;241m*\u001b[39m \u001b[38;5;241m2\u001b[39m\n\u001b[0;32m      8\u001b[0m                \u001b[38;5;28;01mfor\u001b[39;00m x_i, y_i, \u001b[38;5;129;01min\u001b[39;00m \u001b[38;5;28mzip\u001b[39m(x,y))\n",
      "\u001b[1;31mModuleNotFoundError\u001b[0m: No module named 'scratch.linear_algebra'"
     ]
    }
   ],
   "source": [
    "def error(alpha: float, beta: float, x_i: float, y_i: float) ->float:\n",
    "    return predict(alpha, beta, x_i) - y_i\n",
    "\n",
    "from scratch.linear_algebra import Vector\n",
    "\n",
    "def sum_of_squerrors(alpha: float, beta: float, x: Vector, y: Vector) -> float:\n",
    "    return sum(error(alpha, beta, x_i, y_i) ** 2\n",
    "               for x_i, y_i, in zip(x,y))\n",
    "\n",
    "\n"
   ]
  },
  {
   "cell_type": "code",
   "execution_count": null,
   "metadata": {},
   "outputs": [
    {
     "name": "stderr",
     "output_type": "stream",
     "text": [
      "  0%|          | 0/10000 [00:00<?, ?it/s]"
     ]
    },
    {
     "name": "stderr",
     "output_type": "stream",
     "text": [
      "\n"
     ]
    },
    {
     "ename": "TypeError",
     "evalue": "error() takes 3 positional arguments but 4 were given",
     "output_type": "error",
     "traceback": [
      "\u001b[1;31m---------------------------------------------------------------------------\u001b[0m",
      "\u001b[1;31mTypeError\u001b[0m                                 Traceback (most recent call last)",
      "Cell \u001b[1;32mIn[22], line 13\u001b[0m\n\u001b[0;32m     11\u001b[0m \u001b[38;5;28;01mfor\u001b[39;00m _ \u001b[38;5;129;01min\u001b[39;00m t:\n\u001b[0;32m     12\u001b[0m     alpha, beta \u001b[38;5;241m=\u001b[39m guess\n\u001b[1;32m---> 13\u001b[0m     grad_a \u001b[38;5;241m=\u001b[39m \u001b[38;5;28;43msum\u001b[39;49m\u001b[43m(\u001b[49m\u001b[38;5;241;43m2\u001b[39;49m\u001b[43m \u001b[49m\u001b[38;5;241;43m*\u001b[39;49m\u001b[43m \u001b[49m\u001b[43merror\u001b[49m\u001b[43m(\u001b[49m\u001b[43malpha\u001b[49m\u001b[43m,\u001b[49m\u001b[43m \u001b[49m\u001b[43mbeta\u001b[49m\u001b[43m,\u001b[49m\u001b[43m \u001b[49m\u001b[43mx_i\u001b[49m\u001b[43m,\u001b[49m\u001b[43m \u001b[49m\u001b[43my_i\u001b[49m\u001b[43m)\u001b[49m\n\u001b[0;32m     14\u001b[0m \u001b[43m                 \u001b[49m\u001b[38;5;28;43;01mfor\u001b[39;49;00m\u001b[43m \u001b[49m\u001b[43mx_i\u001b[49m\u001b[43m,\u001b[49m\u001b[43m \u001b[49m\u001b[43my_i\u001b[49m\u001b[43m \u001b[49m\u001b[38;5;129;43;01min\u001b[39;49;00m\u001b[43m \u001b[49m\u001b[38;5;28;43mzip\u001b[39;49m\u001b[43m(\u001b[49m\u001b[43mvolumes\u001b[49m\u001b[43m,\u001b[49m\u001b[43m \u001b[49m\u001b[43mdata\u001b[49m\u001b[43m)\u001b[49m\u001b[43m)\u001b[49m\n",
      "Cell \u001b[1;32mIn[22], line 13\u001b[0m, in \u001b[0;36m<genexpr>\u001b[1;34m(.0)\u001b[0m\n\u001b[0;32m     11\u001b[0m \u001b[38;5;28;01mfor\u001b[39;00m _ \u001b[38;5;129;01min\u001b[39;00m t:\n\u001b[0;32m     12\u001b[0m     alpha, beta \u001b[38;5;241m=\u001b[39m guess\n\u001b[1;32m---> 13\u001b[0m     grad_a \u001b[38;5;241m=\u001b[39m \u001b[38;5;28msum\u001b[39m(\u001b[38;5;241m2\u001b[39m \u001b[38;5;241m*\u001b[39m \u001b[43merror\u001b[49m\u001b[43m(\u001b[49m\u001b[43malpha\u001b[49m\u001b[43m,\u001b[49m\u001b[43m \u001b[49m\u001b[43mbeta\u001b[49m\u001b[43m,\u001b[49m\u001b[43m \u001b[49m\u001b[43mx_i\u001b[49m\u001b[43m,\u001b[49m\u001b[43m \u001b[49m\u001b[43my_i\u001b[49m\u001b[43m)\u001b[49m\n\u001b[0;32m     14\u001b[0m                  \u001b[38;5;28;01mfor\u001b[39;00m x_i, y_i \u001b[38;5;129;01min\u001b[39;00m \u001b[38;5;28mzip\u001b[39m(volumes, data))\n",
      "\u001b[1;31mTypeError\u001b[0m: error() takes 3 positional arguments but 4 were given"
     ]
    }
   ],
   "source": [
    "import random\n",
    "import tqdm\n",
    "num_epochs = 10000\n",
    "random.seed(0)\n",
    "\n",
    "guess = [random.random(), random.random()]\n",
    "\n",
    "learning_rate = 0.00001\n",
    "\n",
    "with tqdm.trange(num_epochs) as t:\n",
    "    for _ in t:\n",
    "        alpha, beta = guess\n",
    "        grad_a = sum(2 * error(alpha, beta, x_i, y_i)\n",
    "                     for x_i, y_i in zip(volumes, data))\n",
    "        \n",
    "\n",
    "\n"
   ]
  }
 ],
 "metadata": {
  "kernelspec": {
   "display_name": "Python 3",
   "language": "python",
   "name": "python3"
  },
  "language_info": {
   "codemirror_mode": {
    "name": "ipython",
    "version": 3
   },
   "file_extension": ".py",
   "mimetype": "text/x-python",
   "name": "python",
   "nbconvert_exporter": "python",
   "pygments_lexer": "ipython3",
   "version": "3.11.5"
  }
 },
 "nbformat": 4,
 "nbformat_minor": 2
}
