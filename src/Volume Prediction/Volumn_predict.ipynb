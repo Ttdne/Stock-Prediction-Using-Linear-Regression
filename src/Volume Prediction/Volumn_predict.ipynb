{
 "cells": [
  {
   "cell_type": "code",
   "execution_count": null,
   "metadata": {},
   "outputs": [],
   "source": [
    "import yfinance as yf\n",
    "import pandas as pd\n",
    "import numpy as np\n",
    "import matplotlib.pyplot as plt\n",
    "from sklearn.linear_model import LinearRegression\n",
    "from sklearn.metrics import mean_squared_error, r2_score\n"
   ]
  },
  {
   "cell_type": "markdown",
   "metadata": {},
   "source": [
    "# Data processing"
   ]
  },
  {
   "cell_type": "code",
   "execution_count": null,
   "metadata": {},
   "outputs": [],
   "source": [
    "# Tải dữ liệu lịch sử của cổ phiếu (ví dụ: 'META' cho Meta)\n",
    "ticker = 'META'\n",
    "data = yf.download(ticker, period='5y')\n",
    "# Tính giá trung bình\n",
    "data['Price'] = data[['Open', 'Close', 'High', 'Low']].mean(axis=1)\n",
    "\n",
    "# Chọn các cột cần thiết\n",
    "data = data[['Open', 'High', 'Low', 'Close', 'Volume', 'Price']]\n",
    "data"
   ]
  },
  {
   "cell_type": "code",
   "execution_count": null,
   "metadata": {
    "scrolled": true
   },
   "outputs": [],
   "source": [
    "# Kiểm tra giá trị bị thiếu\n",
    "print(\"Số lượng điểm dữ liệu bị thiếu là\")\n",
    "print(data.isna().sum())\n",
    "\n",
    "# Xử lý giá trị bị thiếu (loại bỏ các hàng có giá trị bị thiếu)\n",
    "data.dropna(inplace=True)\n",
    "\n",
    "# Lưu dữ liệu vào tệp CSV\n",
    "csv_file = f'{ticker}_historical_data.csv'\n",
    "data.to_csv(csv_file)\n",
    "print(f\"Dữ liệu đã được lưu vào tệp {csv_file}\")\n",
    "\n",
    "# Đọc dữ liệu từ tệp CSV (Tuỳ chọn)\n",
    "data_from_csv = pd.read_csv(csv_file, index_col=0)\n",
    "print(data_from_csv.head())\n",
    "\n",
    "# Chuẩn bị dữ liệu cho mô hình\n",
    "prices = data_from_csv['Price'].values\n",
    "volumes = data_from_csv['Volume'].values\n",
    "\n",
    "# Split data into train and test sets\n",
    "split_index = int(0.8 * len(prices)) # 80% of data for training, 20% for testing\n",
    "train_prices, test_prices = prices[:split_index], prices[split_index:] # Train value contain 80% of the data, test is the 20% remaining\n",
    "train_volumes, test_volumes = volumes[:split_index], volumes[split_index:] # Train value contain 80% of the data, test is the 20% remaining\n",
    "train_data, test_data = data[:split_index], data[split_index:] # Train value contain 80% of the data, test is the 20% remaining\n",
    "\n",
    "\n"
   ]
  },
  {
   "cell_type": "code",
   "execution_count": null,
   "metadata": {},
   "outputs": [],
   "source": [
    "# Căn chỉnh dữ liệu\n",
    "train_volumes = train_volumes[1:]  # Loại bỏ phần tử đầu tiên của volumes\n",
    "train_prices = train_prices[:-1]   # Loại bỏ phần tử cuối cùng của prices\n",
    "test_volumes = test_volumes[1:]  # Loại bỏ phần tử đầu tiên của volumes\n",
    "test_prices = test_prices[:-1]  # Loại bỏ phần tử cuối cùng của prices"
   ]
  },
  {
   "cell_type": "markdown",
   "metadata": {},
   "source": [
    "# Gradient Descent"
   ]
  },
  {
   "cell_type": "code",
   "execution_count": null,
   "metadata": {},
   "outputs": [],
   "source": [
    "import random\n",
    "\n",
    "def predict (prices_for_predict, volumes_for_predict) :\n",
    "\n",
    "    # Chuẩn hóa dữ liệu\n",
    "    mean_price = np.mean(prices_for_predict) # Tính giá trị trung bình \n",
    "    std_price = np.std(prices_for_predict) # Tính độ lệch chuẩn\n",
    "    prices_for_predict = (prices_for_predict - mean_price) / std_price\n",
    "    \n",
    "    # Khởi tạo tham số\n",
    "    b = random.random()\n",
    "    a = random.random()\n",
    "    alpha = 0.02  # Learning rate\n",
    "    epochs = 100000  # Số lần lặp\n",
    "    # Số lượng mẫu\n",
    "    m = len(volumes_for_predict)\n",
    "\n",
    "    # Gradient Descent\n",
    "    for epoch in range(epochs):\n",
    "        volumes_pred = b + a * prices_for_predict # Compute predict volume\n",
    "        error = volumes_pred - volumes_for_predict # Calculate the error\n",
    "        db = (2/m) * np.sum(error) # Compute gradient\n",
    "        da = (2/m) * np.sum(error * prices_for_predict) # Compute gradient\n",
    "        \n",
    "        # Kiểm tra các giá trị không hợp lệ trước khi cập nhật\n",
    "        if not np.isnan(db) and not np.isnan(da):\n",
    "            b -= alpha * db\n",
    "            a -= alpha * da\n",
    "        else:\n",
    "            print(f\"Encountered NaN at epoch {epoch}\")\n",
    "            break\n",
    "    # Tính toán giá trị dự đoán cuối cùng\n",
    "    volumes_pred = b + a * prices_for_predict\n",
    "    \n",
    "    print(f\"Hệ số hồi quy (intercept): {b}\\nHệ số hồi quy (slope): {a}\")\n",
    "    return (volumes_pred, b, a)\n",
    "\n"
   ]
  },
  {
   "cell_type": "markdown",
   "metadata": {},
   "source": [
    "# Tính toán hệ số và metric dựa trên test data"
   ]
  },
  {
   "cell_type": "code",
   "execution_count": null,
   "metadata": {},
   "outputs": [],
   "source": [
    "# Dự đoán volume sử dụng các hệ số vừa tìm được\n",
    "train_volumes_pred, train_incepter, train_slope = predict(train_prices, train_volumes)\n"
   ]
  },
  {
   "cell_type": "markdown",
   "metadata": {},
   "source": [
    "## Tính toán metric"
   ]
  },
  {
   "cell_type": "code",
   "execution_count": null,
   "metadata": {},
   "outputs": [],
   "source": [
    "# Tính tổng bình phương của các phần dư hậu hồi quy (SSR)\n",
    "ssr = mean_squared_error(train_volumes, train_volumes_pred) * len(train_volumes)\n",
    "print(f\"Tổng bình phương của các phần dư (SSR): {ssr}\")"
   ]
  },
  {
   "cell_type": "markdown",
   "metadata": {},
   "source": [
    "# Sử dụng sklearn để so sánh"
   ]
  },
  {
   "cell_type": "code",
   "execution_count": null,
   "metadata": {},
   "outputs": [],
   "source": [
    "# Chuyển đổi prices thành dạng 2D cho sklearn\n",
    "train_prices_reshaped = train_prices.reshape(-1, 1)\n",
    "test_prices_reshaped = test_prices.reshape(-1, 1)"
   ]
  },
  {
   "cell_type": "code",
   "execution_count": null,
   "metadata": {
    "scrolled": true
   },
   "outputs": [],
   "source": [
    "\n",
    "# Khởi tạo và huấn luyện mô hình LinearRegression của sklearn\n",
    "model = LinearRegression()\n",
    "model.fit(train_prices_reshaped, train_volumes)\n",
    "\n",
    "# Dự đoán khối lượng giao dịch với sklearn\n",
    "train_volumes_pred_sklearn = model.predict(train_prices_reshaped)\n",
    "\n",
    "# So sánh hệ số hồi quy\n",
    "print(f\"Hệ số hồi quy (intercept) với sklearn: {model.intercept_}\")\n",
    "print(f\"Hệ số hồi quy (slope) với sklearn: {model.coef_[0]}\")\n",
    "\n",
    "\n",
    "# Tính SSR cho mô hình sklearn\n",
    "ssr_sklearn = mean_squared_error(train_volumes, train_volumes_pred_sklearn) * len(train_volumes)\n",
    "print(f\"Tổng bình phương của các phần dư (SSR) với sklearn: {ssr_sklearn}\")\n",
    "\n"
   ]
  },
  {
   "cell_type": "markdown",
   "metadata": {},
   "source": [
    "# Độ khác biệt giữa giá trị SSR của mô hình sklearn và mô hình DIY"
   ]
  },
  {
   "cell_type": "code",
   "execution_count": null,
   "metadata": {},
   "outputs": [],
   "source": [
    "ssr_sklearn - ssr"
   ]
  },
  {
   "cell_type": "markdown",
   "metadata": {},
   "source": [
    "# Vẽ biểu đồ so sánh"
   ]
  },
  {
   "cell_type": "code",
   "execution_count": null,
   "metadata": {},
   "outputs": [],
   "source": [
    "plt.figure(figsize=(10, 6)) # Create a figure\n",
    "plt.plot(train_data.index[1:], train_volumes, label='Thực tế') # Plot the actual trading volume\n",
    "plt.plot(train_data.index[1:], train_volumes_pred, label='Dự đoán (tự triển khai)', color='y') # Plot the predicted volume\n",
    "plt.plot(train_data.index[1:], train_volumes_pred_sklearn, label='Dự đoán (sklearn)', color='r', linestyle='--') # Plot the predicted volume using sklearn model\n",
    "plt.xlabel('Ngày') # Set label of the x-axis\n",
    "plt.ylabel('Volume') # Set label of the y-axis\n",
    "plt.title(f'Dự đoán khối lượng giao dịch cho {ticker}') # Set the title\n",
    "plt.legend() # Add a legend\n",
    "plt.show() # Display the figure"
   ]
  },
  {
   "cell_type": "markdown",
   "metadata": {},
   "source": [
    "# Evaluation"
   ]
  },
  {
   "cell_type": "code",
   "execution_count": null,
   "metadata": {},
   "outputs": [],
   "source": [
    "\n",
    "# Calculating evaluation metrics\n",
    "def adjusted_r2(r2, n, p):\n",
    "    return 1 - (1 - r2) * ((n - 1) / (n - p - 1))\n",
    "\n",
    "# Evalute metrics dictionary\n",
    "metrics = {\n",
    "    \"Model\": [],\n",
    "    \"R-Squared\": [],\n",
    "    \"Multiple R\": [],\n",
    "    \"Standard Error\": [],\n",
    "    \"MSE\": []\n",
    "}\n",
    "\n",
    "# Evaluate model function\n",
    "def evaluate_model(y_true, y_pred, model_name):\n",
    "    r2 = r2_score(y_true, y_pred) # measures the proportion\n",
    "    mse = mean_squared_error(y_true, y_pred) # measures the average squared difference between the predicted and actual values\n",
    "    std_error = np.sqrt(mse) # Standard error of the model predictions, calculated as the square root of MSE\n",
    "    metrics[\"Model\"].append(model_name)\n",
    "    metrics[\"R-Squared\"].append(r2)\n",
    "    metrics[\"Multiple R\"].append(np.sqrt(r2))\n",
    "    metrics[\"Standard Error\"].append(std_error)\n",
    "    metrics[\"MSE\"].append(mse)\n",
    "\n",
    "model.fit(test_prices_reshaped, test_volumes) # Fit the model\n",
    "test_volumes_pred, test_b, test_a = predict(test_prices, test_volumes) # Predict with function\n",
    "test_volumes_pred_sklearn = model.predict(test_prices_reshaped) # Predict with sklearn model\n",
    "\n",
    "# Evaluate model\n",
    "evaluate_model(train_volumes, train_volumes_pred, \"Custom Least Squares\")\n",
    "evaluate_model(train_volumes, train_volumes_pred_sklearn, \"Sklearn LinearRegression\")\n",
    "\n",
    "# Display evaluation metrics\n",
    "evaluation_df = pd.DataFrame(metrics) # Create DataFrame\n",
    "print(evaluation_df)# Print DataFrame\n",
    "\n",
    "plt.figure(figsize=(10, 6)) # Create a figure\n",
    "plt.plot(test_data.index[1:], test_volumes, label='Thực tế') # Plot the actual volume\n",
    "plt.plot(test_data.index[1:], test_volumes_pred, label='Dự đoán (tự triển khai)', color='r') # Plot the predicted volume\n",
    "plt.plot(test_data.index[1:], test_volumes_pred_sklearn, label='Dự đoán (sklearn)', color='g', linestyle='--') # Plot the predicted volume using sklearn model\n",
    "plt.xlabel('Ngày') # Set x-axis label\n",
    "plt.ylabel('Volume') # Set y-axis label\n",
    "plt.title(f'Dự đoán khối lượng giao dịch cho {ticker}') # Set title\n",
    "plt.legend() # Create a legend\n",
    "plt.show() # Display the figure"
   ]
  }
 ],
 "metadata": {
  "kernelspec": {
   "display_name": "Python 3 (ipykernel)",
   "language": "python",
   "name": "python3"
  },
  "language_info": {
   "codemirror_mode": {
    "name": "ipython",
    "version": 3
   },
   "file_extension": ".py",
   "mimetype": "text/x-python",
   "name": "python",
   "nbconvert_exporter": "python",
   "pygments_lexer": "ipython3",
   "version": "3.12.3"
  }
 },
 "nbformat": 4,
 "nbformat_minor": 4
}
