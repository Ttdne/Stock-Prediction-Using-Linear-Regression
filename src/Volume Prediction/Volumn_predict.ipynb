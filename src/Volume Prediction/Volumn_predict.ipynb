{
 "cells": [
  {
   "cell_type": "code",
   "execution_count": null,
   "metadata": {},
   "outputs": [],
   "source": [
    "import yfinance as yf\n",
    "import pandas as pd\n",
    "import numpy as np\n",
    "import matplotlib.pyplot as plt\n",
    "from sklearn.linear_model import LinearRegression\n",
    "from sklearn.metrics import mean_squared_error, r2_score\n"
   ]
  },
  {
   "cell_type": "markdown",
   "metadata": {},
   "source": [
    "# Data processing"
   ]
  },
  {
   "cell_type": "code",
   "execution_count": null,
   "metadata": {},
   "outputs": [],
   "source": [
    "# Dowload META stock data from yfinance\n",
    "ticker = 'META'\n",
    "data = yf.download(ticker, period='5y')\n",
    "# Calculate the mean\n",
    "data['Price'] = data[['Open', 'Close', 'High', 'Low']].mean(axis=1)\n",
    "\n",
    "# Choose the necessary column\n",
    "data = data[['Open', 'High', 'Low', 'Close', 'Volume', 'Price']]\n",
    "data"
   ]
  },
  {
   "cell_type": "code",
   "execution_count": null,
   "metadata": {
    "scrolled": true
   },
   "outputs": [],
   "source": [
    "# Check the lost data\n",
    "print(\"Number of lost data:\")\n",
    "print(data.isna().sum())\n",
    "\n",
    "# remove the row with lost data\n",
    "data.dropna(inplace=True)\n",
    "\n",
    "# Save data in CSV file\n",
    "csv_file = f'{ticker}_historical_data.csv'\n",
    "data.to_csv(csv_file)\n",
    "print(f\"Data saved in {csv_file}\")\n",
    "\n",
    "# Read CSV file (optional)\n",
    "data_from_csv = pd.read_csv(csv_file, index_col=0)\n",
    "print(data_from_csv.head())\n",
    "\n",
    "# Prepare data for the model\n",
    "prices = data_from_csv['Price'].values\n",
    "volumes = data_from_csv['Volume'].values\n",
    "\n",
    "# Split data into train and test sets\n",
    "split_index = int(0.8 * len(prices)) # 80% of data for training, 20% for testing\n",
    "train_prices, test_prices = prices[:split_index], prices[split_index:] # Train value contain 80% of the data, test is the 20% remaining\n",
    "train_volumes, test_volumes = volumes[:split_index], volumes[split_index:] # Train value contain 80% of the data, test is the 20% remaining\n",
    "train_data, test_data = data[:split_index], data[split_index:] # Train value contain 80% of the data, test is the 20% remaining\n",
    "\n",
    "\n"
   ]
  },
  {
   "cell_type": "code",
   "execution_count": null,
   "metadata": {},
   "outputs": [],
   "source": [
    "# Align the data\n",
    "train_volumes = train_volumes[1:]   # Remove the last element of train_volumes\n",
    "train_prices = train_prices[:-1]    # Remove the last element of train_prices\n",
    "test_volumes = test_volumes[1:]     # Remove the last element of test_volumes\n",
    "test_prices = test_prices[:-1]      # Remove the last element of test_prices"
   ]
  },
  {
   "cell_type": "markdown",
   "metadata": {},
   "source": [
    "# Gradient Descent"
   ]
  },
  {
   "cell_type": "code",
   "execution_count": null,
   "metadata": {},
   "outputs": [],
   "source": [
    "import random\n",
    "\n",
    "def predict (prices_for_predict, volumes_for_predict) :\n",
    "\n",
    "    # Standardized data\n",
    "    mean_price = np.mean(prices_for_predict) # Calculate mean\n",
    "    std_price = np.std(prices_for_predict) # Calculate standard deviation\n",
    "    prices_for_predict = (prices_for_predict - mean_price) / std_price\n",
    "    \n",
    "    # Initialize parameters\n",
    "    b = random.random()\n",
    "    a = random.random()\n",
    "    alpha = 0.02  # Learning rate\n",
    "    epochs = 100000  # Iteration\n",
    "    # Number of samples\n",
    "    m = len(volumes_for_predict)\n",
    "\n",
    "    # Gradient Descent\n",
    "    for epoch in range(epochs):\n",
    "        volumes_pred = b + a * prices_for_predict # Compute predict volume\n",
    "        error = volumes_pred - volumes_for_predict # Calculate the error\n",
    "        db = (2/m) * np.sum(error) # Compute gradient\n",
    "        da = (2/m) * np.sum(error * prices_for_predict) # Compute gradient\n",
    "        \n",
    "        # Check for the unsuitable ones\n",
    "        if not np.isnan(db) and not np.isnan(da):\n",
    "            b -= alpha * db\n",
    "            a -= alpha * da\n",
    "        else:\n",
    "            print(f\"Encountered NaN at epoch {epoch}\")\n",
    "            break\n",
    "    # Calculate the finale predict\n",
    "    volumes_pred = b + a * prices_for_predict\n",
    "    \n",
    "    print(f\"Intercept: {b}\\nSlope: {a}\")\n",
    "    return (volumes_pred, b, a)\n",
    "\n"
   ]
  },
  {
   "cell_type": "markdown",
   "metadata": {},
   "source": [
    "# Calculate coefficient and metric base on test data"
   ]
  },
  {
   "cell_type": "code",
   "execution_count": null,
   "metadata": {},
   "outputs": [],
   "source": [
    "# Predict the volume\n",
    "train_volumes_pred, train_incepter, train_slope = predict(train_prices, train_volumes)\n"
   ]
  },
  {
   "cell_type": "markdown",
   "metadata": {},
   "source": [
    "## Calculate metric"
   ]
  },
  {
   "cell_type": "code",
   "execution_count": null,
   "metadata": {},
   "outputs": [],
   "source": [
    "# Calculate sum of squares regression\n",
    "ssr = mean_squared_error(train_volumes, train_volumes_pred) * len(train_volumes)\n",
    "print(f\"Sum of squares regression: {ssr}\")"
   ]
  },
  {
   "cell_type": "markdown",
   "metadata": {},
   "source": [
    "# Using sklearn for comparing"
   ]
  },
  {
   "cell_type": "code",
   "execution_count": null,
   "metadata": {},
   "outputs": [],
   "source": [
    "# Reshape price into 2D for sklearn\n",
    "train_prices_reshaped = train_prices.reshape(-1, 1)\n",
    "test_prices_reshaped = test_prices.reshape(-1, 1)"
   ]
  },
  {
   "cell_type": "code",
   "execution_count": null,
   "metadata": {
    "scrolled": true
   },
   "outputs": [],
   "source": [
    "\n",
    "# Initialze and training model LinearRegression of sklearn\n",
    "model = LinearRegression()\n",
    "model.fit(train_prices_reshaped, train_volumes)\n",
    "\n",
    "# Predict the volume\n",
    "train_volumes_pred_sklearn = model.predict(train_prices_reshaped)\n",
    "\n",
    "# Compare regression coefficients\n",
    "print(f\"Intercept by sklearn: {model.intercept_}\")\n",
    "print(f\"Slope by sklearn: {model.coef_[0]}\")\n",
    "\n",
    "\n",
    "# Calculate sum of squares regression\n",
    "ssr_sklearn = mean_squared_error(train_volumes, train_volumes_pred_sklearn) * len(train_volumes)\n",
    "print(f\"Sum of square regression by sklearn: {ssr_sklearn}\")\n",
    "\n"
   ]
  },
  {
   "cell_type": "markdown",
   "metadata": {},
   "source": [
    "# The difference between the SSR value of the sklearn model and the Custom model"
   ]
  },
  {
   "cell_type": "code",
   "execution_count": null,
   "metadata": {},
   "outputs": [],
   "source": [
    "ssr_sklearn - ssr"
   ]
  },
  {
   "cell_type": "markdown",
   "metadata": {},
   "source": [
    "# Comparison chart"
   ]
  },
  {
   "cell_type": "code",
   "execution_count": null,
   "metadata": {},
   "outputs": [],
   "source": [
    "plt.figure(figsize=(10, 6)) # Create a figure\n",
    "plt.plot(train_data.index[1:], train_volumes, label='Actual') # Plot the actual trading volume\n",
    "plt.plot(train_data.index[1:], train_volumes_pred, label='Predicted (Custom model)', color='y') # Plot the predicted volume\n",
    "plt.plot(train_data.index[1:], train_volumes_pred_sklearn, label='Predicted (sklearn)', color='r', linestyle='--') # Plot the predicted volume using sklearn model\n",
    "plt.xlabel('Day') # Set label of the x-axis\n",
    "plt.ylabel('Volume') # Set label of the y-axis\n",
    "plt.title(f'Predicted volume of {ticker}') # Set the title\n",
    "plt.legend() # Add a legend\n",
    "plt.show() # Display the figure"
   ]
  },
  {
   "cell_type": "markdown",
   "metadata": {},
   "source": [
    "# Evaluation"
   ]
  },
  {
   "cell_type": "code",
   "execution_count": null,
   "metadata": {},
   "outputs": [],
   "source": [
    "\n",
    "# Calculating evaluation metrics\n",
    "def adjusted_r2(r2, n, p):\n",
    "    return 1 - (1 - r2) * ((n - 1) / (n - p - 1))\n",
    "\n",
    "# Evalute metrics dictionary\n",
    "metrics = {\n",
    "    \"Model\": [],\n",
    "    \"R-Squared\": [],\n",
    "    \"Multiple R\": [],\n",
    "    \"Standard Error\": [],\n",
    "    \"MSE\": []\n",
    "}\n",
    "\n",
    "# Evaluate model function\n",
    "def evaluate_model(y_true, y_pred, model_name):\n",
    "    r2 = r2_score(y_true, y_pred) # measures the proportion\n",
    "    mse = mean_squared_error(y_true, y_pred) # measures the average squared difference between the predicted and actual values\n",
    "    std_error = np.sqrt(mse) # Standard error of the model predictions, calculated as the square root of MSE\n",
    "    metrics[\"Model\"].append(model_name)\n",
    "    metrics[\"R-Squared\"].append(r2)\n",
    "    metrics[\"Multiple R\"].append(np.sqrt(r2))\n",
    "    metrics[\"Standard Error\"].append(std_error)\n",
    "    metrics[\"MSE\"].append(mse)\n",
    "\n",
    "model.fit(test_prices_reshaped, test_volumes) # Fit the model\n",
    "test_volumes_pred, test_b, test_a = predict(test_prices, test_volumes) # Predict with function\n",
    "test_volumes_pred_sklearn = model.predict(test_prices_reshaped) # Predict with sklearn model\n",
    "\n",
    "# Evaluate model\n",
    "evaluate_model(train_volumes, train_volumes_pred, \"Custom Least Squares\")\n",
    "evaluate_model(train_volumes, train_volumes_pred_sklearn, \"Sklearn LinearRegression\")\n",
    "\n",
    "# Display evaluation metrics\n",
    "evaluation_df = pd.DataFrame(metrics) # Create DataFrame\n",
    "print(evaluation_df)# Print DataFrame\n",
    "\n",
    "plt.figure(figsize=(10, 6)) # Create a figure\n",
    "plt.plot(test_data.index[1:], test_volumes, label='Actual') # Plot the actual volume\n",
    "plt.plot(test_data.index[1:], test_volumes_pred, label='Predicted (Custom model)', color='r') # Plot the predicted volume\n",
    "plt.plot(test_data.index[1:], test_volumes_pred_sklearn, label='Predicted (sklearn)', color='g', linestyle='--') # Plot the predicted volume using sklearn model\n",
    "plt.xlabel('Day') # Set x-axis label\n",
    "plt.ylabel('Volume') # Set y-axis label\n",
    "plt.title(f'Predicted volume of {ticker}') # Set title\n",
    "plt.legend() # Create a legend\n",
    "plt.show() # Display the figure"
   ]
  }
 ],
 "metadata": {
  "kernelspec": {
   "display_name": "Python 3 (ipykernel)",
   "language": "python",
   "name": "python3"
  },
  "language_info": {
   "codemirror_mode": {
    "name": "ipython",
    "version": 3
   },
   "file_extension": ".py",
   "mimetype": "text/x-python",
   "name": "python",
   "nbconvert_exporter": "python",
   "pygments_lexer": "ipython3",
   "version": "3.12.3"
  }
 },
 "nbformat": 4,
 "nbformat_minor": 4
}
